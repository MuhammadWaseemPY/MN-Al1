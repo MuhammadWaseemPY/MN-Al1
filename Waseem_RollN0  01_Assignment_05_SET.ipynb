{
  "metadata": {
    "kernelspec": {
      "name": "python",
      "display_name": "Python (Pyodide)",
      "language": "python"
    },
    "language_info": {
      "codemirror_mode": {
        "name": "python",
        "version": 3
      },
      "file_extension": ".py",
      "mimetype": "text/x-python",
      "name": "python",
      "nbconvert_exporter": "python",
      "pygments_lexer": "ipython3",
      "version": "3.8"
    }
  },
  "nbformat_minor": 5,
  "nbformat": 4,
  "cells": [
    {
      "cell_type": "markdown",
      "source": "### Assignment-05 (SET)\n",
      "metadata": {},
      "id": "a97576a6"
    },
    {
      "cell_type": "markdown",
      "source": "    Create an empty set and print it.\n  ",
      "metadata": {},
      "id": "d1ddf3da"
    },
    {
      "cell_type": "code",
      "source": "empty_set={}\nprint(empty_set)\nprint(type(empty_set))",
      "metadata": {
        "trusted": true
      },
      "execution_count": 5,
      "outputs": [
        {
          "name": "stdout",
          "text": "{}\n<class 'dict'>\n",
          "output_type": "stream"
        }
      ],
      "id": "c9e9db1e"
    },
    {
      "cell_type": "markdown",
      "source": "    Create a set that includes a mix of data types (integers, strings, floats).",
      "metadata": {},
      "id": "5e724df6"
    },
    {
      "cell_type": "code",
      "source": "mix_set={12,13,15,16,\"Apple\",\"Android\",3.14,19.1}\nprint(mix_set)",
      "metadata": {
        "trusted": true
      },
      "execution_count": 6,
      "outputs": [
        {
          "name": "stdout",
          "text": "{3.14, 'Apple', 12, 13, 15, 16, 'Android', 19.1}\n",
          "output_type": "stream"
        }
      ],
      "id": "e496901a"
    },
    {
      "cell_type": "markdown",
      "source": "Access the elements of a set using a loop and print each element.",
      "metadata": {},
      "id": "d2b80125"
    },
    {
      "cell_type": "code",
      "source": "for element in mix_set:\n    print(element)\n",
      "metadata": {
        "trusted": true
      },
      "execution_count": 7,
      "outputs": [
        {
          "name": "stdout",
          "text": "3.14\nApple\n12\n13\n15\n16\nAndroid\n19.1\n",
          "output_type": "stream"
        }
      ],
      "id": "3ceec096"
    },
    {
      "cell_type": "markdown",
      "source": "add a new element to a set using the add() method.",
      "metadata": {},
      "id": "08fdccf7"
    },
    {
      "cell_type": "code",
      "source": "mix_set.add(\"waseem\")\nprint(mix_set)",
      "metadata": {
        "trusted": true
      },
      "execution_count": 8,
      "outputs": [
        {
          "name": "stdout",
          "text": "{3.14, 'Apple', 12, 13, 'waseem', 15, 16, 'Android', 19.1}\n",
          "output_type": "stream"
        }
      ],
      "id": "5d5273f9"
    },
    {
      "cell_type": "markdown",
      "source": "Add multiple elements to a set using the update() method.",
      "metadata": {},
      "id": "c8257b4c"
    },
    {
      "cell_type": "code",
      "source": "mix_set.update([100,\"GIS\", \"PU\"])\nprint(mix_set)",
      "metadata": {
        "trusted": true
      },
      "execution_count": 11,
      "outputs": [
        {
          "name": "stdout",
          "text": "{3.14, 'GIS', 4, 5, 100, 'Apple', 12, 13, 'waseem', 15, 16, 'Android', 'apple', 'PU', 19.1}\n",
          "output_type": "stream"
        }
      ],
      "id": "d3fe8634"
    },
    {
      "cell_type": "markdown",
      "source": "Remove and return an arbitrary element from a set using the pop() method.",
      "metadata": {},
      "id": "e8adbe50"
    },
    {
      "cell_type": "code",
      "source": "myset = {12,34,56,3,45,67,89,1,6}\nprint(\"Actual set:\",myset)\npopped=myset.pop()\nprint(\"Popped item: \",popped)\nprint(\"Final set:\",myset)\n",
      "metadata": {
        "trusted": true
      },
      "execution_count": 1,
      "outputs": [
        {
          "name": "stdout",
          "text": "Actual set: {1, 34, 67, 3, 6, 12, 45, 56, 89}\nPopped item:  1\nFinal set: {34, 67, 3, 6, 12, 45, 56, 89}\n",
          "output_type": "stream"
        }
      ],
      "id": "bfdcad15"
    },
    {
      "cell_type": "markdown",
      "source": "Remove a specific element from a set using the remove() method.",
      "metadata": {},
      "id": "6bacfc71"
    },
    {
      "cell_type": "code",
      "source": "myset.remove(12)\nprint(myset)\n",
      "metadata": {
        "trusted": true
      },
      "execution_count": 8,
      "outputs": [
        {
          "name": "stdout",
          "text": "{1, 34, 67, 3, 6, 45, 56, 89}\n",
          "output_type": "stream"
        }
      ],
      "id": "d7d4d697"
    },
    {
      "cell_type": "markdown",
      "source": "Remove a specific element from a set using the discard() method.",
      "metadata": {},
      "id": "1844da3c"
    },
    {
      "cell_type": "code",
      "source": "myset.discard(1)\nprint(myset)",
      "metadata": {
        "trusted": true
      },
      "execution_count": 10,
      "outputs": [
        {
          "name": "stdout",
          "text": "{34, 67, 3, 6, 45, 56, 89}\n",
          "output_type": "stream"
        }
      ],
      "id": "36164bf7"
    },
    {
      "cell_type": "markdown",
      "source": "Convert a string to a set of unique characters.",
      "metadata": {},
      "id": "8bd3aadb"
    },
    {
      "cell_type": "code",
      "source": "cgis = \"centre for GIS PU\"\nset(cgis)",
      "metadata": {
        "trusted": true
      },
      "execution_count": 9,
      "outputs": [
        {
          "execution_count": 9,
          "output_type": "execute_result",
          "data": {
            "text/plain": "{' ', 'G', 'I', 'P', 'S', 'U', 'c', 'e', 'f', 'n', 'o', 'r', 't'}"
          },
          "metadata": {}
        }
      ],
      "id": "245d4caf-ab5a-408d-a5e4-0b15b7301689"
    },
    {
      "cell_type": "markdown",
      "source": "Convert a set of characters to a string.",
      "metadata": {},
      "id": "6c622821"
    },
    {
      "cell_type": "code",
      "source": "cgis = \"cetre for GIS PU\"\nunique_characters = set(cgis)\nnew_string = ''.join(unique_characters)\nprint(new_string)\n",
      "metadata": {
        "trusted": true
      },
      "execution_count": 4,
      "outputs": [
        {
          "name": "stdout",
          "text": "UtSrPoIGfec \n",
          "output_type": "stream"
        }
      ],
      "id": "fb3156ac"
    },
    {
      "cell_type": "markdown",
      "source": "Use the clear() method to remove all elements from a set.",
      "metadata": {},
      "id": "9a426c8f"
    },
    {
      "cell_type": "code",
      "source": "fruits = {\"apple\", \"banana\", \"cherry\"}\nfruits.clear()\nprint(fruits)",
      "metadata": {
        "trusted": true
      },
      "execution_count": 10,
      "outputs": [
        {
          "name": "stdout",
          "text": "set()\n",
          "output_type": "stream"
        }
      ],
      "id": "88a65643"
    },
    {
      "cell_type": "markdown",
      "source": "Use the copy() method to create a shallow copy of a set.",
      "metadata": {},
      "id": "9edea94d"
    },
    {
      "cell_type": "code",
      "source": "fruits = {\"aaple\",\"banana\",\"cherry\"}\nsetr = fruits.copy()\nprint(setr) ",
      "metadata": {
        "trusted": true
      },
      "execution_count": 13,
      "outputs": [
        {
          "name": "stdout",
          "text": "{'aaple', 'cherry', 'banana'}\n",
          "output_type": "stream"
        }
      ],
      "id": "eb4e0b56"
    },
    {
      "cell_type": "markdown",
      "source": "Use the difference() method to find the difference between two sets.",
      "metadata": {},
      "id": "cd9c69f0"
    },
    {
      "cell_type": "code",
      "source": "x = {\"apple\", \"banana\", \"cherry\"}\ny = {\"google\", \"microsoft\", \"apple\"}\nz = x.difference(y)\nprint(z)",
      "metadata": {
        "trusted": true
      },
      "execution_count": 14,
      "outputs": [
        {
          "name": "stdout",
          "text": "{'cherry', 'banana'}\n",
          "output_type": "stream"
        }
      ],
      "id": "2f816d0f"
    },
    {
      "cell_type": "markdown",
      "source": "Create two sets and find their union.",
      "metadata": {},
      "id": "307c3f1a"
    },
    {
      "cell_type": "code",
      "source": "z = x.union(y)\nprint(z)",
      "metadata": {
        "trusted": true
      },
      "execution_count": 15,
      "outputs": [
        {
          "name": "stdout",
          "text": "{'cherry', 'apple', 'banana', 'google', 'microsoft'}\n",
          "output_type": "stream"
        }
      ],
      "id": "fac5a114"
    },
    {
      "cell_type": "markdown",
      "source": "    Create two sets and find their intersection.\n   ",
      "metadata": {},
      "id": "eaf6ba0c"
    },
    {
      "cell_type": "code",
      "source": "z = x.intersection(y)\nprint(z)",
      "metadata": {
        "trusted": true
      },
      "execution_count": 16,
      "outputs": [
        {
          "name": "stdout",
          "text": "{'apple'}\n",
          "output_type": "stream"
        }
      ],
      "id": "1169662c"
    },
    {
      "cell_type": "markdown",
      "source": " Create two sets and find their difference.\n",
      "metadata": {},
      "id": "859e1d7f"
    },
    {
      "cell_type": "code",
      "source": "x = {\"apple\", \"banana\", \"cherry\"}\ny = {\"google\", \"microsoft\", \"apple\"}\nprint(\"set x:\",x)\nprint(\"set y:\",y)\nz = x.difference(y)\nprint(\"diffrence is:\",z)",
      "metadata": {
        "trusted": true
      },
      "execution_count": 19,
      "outputs": [
        {
          "name": "stdout",
          "text": "set x: {'apple', 'cherry', 'banana'}\nset y: {'apple', 'google', 'microsoft'}\ndiffrence is: {'cherry', 'banana'}\n",
          "output_type": "stream"
        }
      ],
      "id": "681f05e6"
    },
    {
      "cell_type": "markdown",
      "source": "    Create two sets and find their symmetric difference.",
      "metadata": {},
      "id": "b1c839f5"
    },
    {
      "cell_type": "code",
      "source": "x = {\"apple\", \"banana\", \"cherry\"}\ny = {\"google\", \"microsoft\", \"apple\"}\nz = x.symmetric_difference(y)\nprint(z)",
      "metadata": {
        "trusted": true
      },
      "execution_count": 20,
      "outputs": [
        {
          "name": "stdout",
          "text": "{'banana', 'google', 'cherry', 'microsoft'}\n",
          "output_type": "stream"
        }
      ],
      "id": "c2695bb7"
    },
    {
      "cell_type": "markdown",
      "source": "Check if one set is a subset of another.",
      "metadata": {},
      "id": "41933917"
    },
    {
      "cell_type": "code",
      "source": "x = {\"apple\", \"banana\", \"cherry\"}\ny = {\"google\", \"microsoft\", \"apple\"}\nz = x.issubset(y)\nprint(z)",
      "metadata": {
        "trusted": true
      },
      "execution_count": 24,
      "outputs": [
        {
          "name": "stdout",
          "text": "False\n",
          "output_type": "stream"
        }
      ],
      "id": "fc3d1fd0"
    },
    {
      "cell_type": "markdown",
      "source": "    Check if one set is a superset of another.\n",
      "metadata": {},
      "id": "65174e5c"
    },
    {
      "cell_type": "code",
      "source": "z = x.issuperset(y)\nprint(y)",
      "metadata": {
        "trusted": true
      },
      "execution_count": 25,
      "outputs": [
        {
          "name": "stdout",
          "text": "{'apple', 'google', 'microsoft'}\n",
          "output_type": "stream"
        }
      ],
      "id": "cc34dbf9"
    },
    {
      "cell_type": "markdown",
      "source": "    Check if two sets are disjoint (have no common elements).",
      "metadata": {},
      "id": "e8b05467"
    },
    {
      "cell_type": "code",
      "source": "z = x.isdisjoint(y)\nprint(z)",
      "metadata": {
        "trusted": true
      },
      "execution_count": 26,
      "outputs": [
        {
          "name": "stdout",
          "text": "False\n",
          "output_type": "stream"
        }
      ],
      "id": "f5e84a48"
    },
    {
      "cell_type": "code",
      "source": "",
      "metadata": {},
      "execution_count": null,
      "outputs": [],
      "id": "10e5323f-2b3a-4d24-8d77-a60ccc412ba5"
    }
  ]
}