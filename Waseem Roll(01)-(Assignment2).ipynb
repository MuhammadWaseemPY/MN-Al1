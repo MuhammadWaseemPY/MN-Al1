{
 "cells": [
  {
   "cell_type": "markdown",
   "id": "8a0b5128",
   "metadata": {},
   "source": [
    "<h1 align=\"center\">Variables</h1>"
   ]
  },
  {
   "cell_type": "code",
   "execution_count": null,
   "id": "65e76a24",
   "metadata": {},
   "outputs": [],
   "source": [
    "first_name = \"Muhammad\"\n",
    "first_name\n",
    "type(first_name)"
   ]
  },
  {
   "cell_type": "code",
   "execution_count": null,
   "id": "518a55a9",
   "metadata": {},
   "outputs": [],
   "source": [
    "name_of_Student = \"Waseem\"\n",
    "name_of_Student\n",
    "type(name_of_Student)\n"
   ]
  },
  {
   "cell_type": "code",
   "execution_count": null,
   "id": "401c5e99",
   "metadata": {},
   "outputs": [],
   "source": [
    "no_classes = 32\n",
    "no_classes\n",
    "type(no_classes)"
   ]
  },
  {
   "cell_type": "code",
   "execution_count": null,
   "id": "0a80b190",
   "metadata": {},
   "outputs": [],
   "source": [
    "math_marks=80\n",
    "math_marks\n",
    "type(math_marks)"
   ]
  },
  {
   "cell_type": "code",
   "execution_count": null,
   "id": "e8851a21",
   "metadata": {},
   "outputs": [],
   "source": [
    "math_marks=80\n",
    "math_marks\n",
    "type(math_marks)"
   ]
  },
  {
   "cell_type": "code",
   "execution_count": null,
   "id": "cb76cf0f",
   "metadata": {},
   "outputs": [],
   "source": [
    "classes = 32\n",
    "classes\n",
    "type(classes)"
   ]
  },
  {
   "cell_type": "code",
   "execution_count": null,
   "id": "7e09e549",
   "metadata": {},
   "outputs": [],
   "source": [
    "help('for')|#My"
   ]
  },
  {
   "cell_type": "code",
   "execution_count": null,
   "id": "ae532168",
   "metadata": {},
   "outputs": [],
   "source": [
    "help('keyword')#My"
   ]
  },
  {
   "cell_type": "code",
   "execution_count": null,
   "id": "35ab7da4",
   "metadata": {},
   "outputs": [],
   "source": [
    "# True is a keyword, can't be used as variable name\n",
    "#True = 100 "
   ]
  },
  {
   "cell_type": "code",
   "execution_count": null,
   "id": "33a25455",
   "metadata": {},
   "outputs": [],
   "source": [
    "var = 100\n",
    "a_var = 50\n"
   ]
  },
  {
   "cell_type": "code",
   "execution_count": null,
   "id": "71ad4fdb",
   "metadata": {},
   "outputs": [],
   "source": [
    "@sample = 50\n",
    "var = 90"
   ]
  },
  {
   "cell_type": "code",
   "execution_count": null,
   "id": "d791c813",
   "metadata": {},
   "outputs": [],
   "source": [
    "\n",
    "var1 = 25\n",
    "varaible1 = 530\n"
   ]
  },
  {
   "cell_type": "code",
   "execution_count": null,
   "id": "516f177e",
   "metadata": {},
   "outputs": [],
   "source": [
    "# A variable name cannot start with a special character or digit\n",
    "\n",
    "var = 530\n",
    "i = 980\n",
    "t = 80"
   ]
  },
  {
   "cell_type": "code",
   "execution_count": null,
   "id": "e0e15948",
   "metadata": {},
   "outputs": [],
   "source": [
    "a = range(10)\n",
    "print(a)\n",
    "print(list(a))"
   ]
  },
  {
   "cell_type": "code",
   "execution_count": null,
   "id": "349c1e82",
   "metadata": {},
   "outputs": [],
   "source": [
    "any = range(20)\n",
    "print(any)\n",
    "type(any)"
   ]
  },
  {
   "cell_type": "code",
   "execution_count": null,
   "id": "03f15a5b",
   "metadata": {},
   "outputs": [],
   "source": [
    "type(a)"
   ]
  },
  {
   "cell_type": "code",
   "execution_count": null,
   "id": "b736a2a1",
   "metadata": {},
   "outputs": [],
   "source": [
    "a = int(10)\n",
    "print(a)\n",
    "type(a)"
   ]
  },
  {
   "cell_type": "markdown",
   "id": "a0f875ce",
   "metadata": {},
   "source": [
    "### 4. Assign Multiple values to Multiple variables in one Statement"
   ]
  },
  {
   "cell_type": "code",
   "execution_count": null,
   "id": "39994833",
   "metadata": {},
   "outputs": [],
   "source": [
    "#Assigning multiple values to multiple variables\n",
    " b, c =  3.2, \"Hello\"\n",
    "\n",
    "print ( 'b = ',b,' c = ',c)"
   ]
  },
  {
   "cell_type": "code",
   "execution_count": null,
   "id": "25a3f57b",
   "metadata": {},
   "outputs": [],
   "source": [
    "#Assigning multiple values to multiple variables\n",
    "math, phy, chem = 60, 87, 55\n",
    "\n",
    "print ('math = ',math,' phy = ',phy,' chem = ',chem)"
   ]
  },
  {
   "cell_type": "markdown",
   "id": "b7bddc0d",
   "metadata": {},
   "source": [
    "### 5. To Check the Type of a Variable"
   ]
  },
  {
   "cell_type": "code",
   "execution_count": null,
   "id": "58ebd595",
   "metadata": {},
   "outputs": [],
   "source": [
    "# to check the type of variable\n",
    "name = \"Waseem\"\n",
    "print(type(name))\n",
    "Alphabet = \"abc\"\n",
    "print(type(Alphabet))\n",
    "x = 50\n",
    "print(type(x))\n",
    "length = 5.321\n",
    "t=565\n",
    "\n",
    "print(type(t))\n",
    "print(\"length is of \", type(length))"
   ]
  },
  {
   "cell_type": "code",
   "execution_count": null,
   "id": "87bc5c37",
   "metadata": {},
   "outputs": [],
   "source": [
    "# to check the type of variable\n",
    "student = \"Waseem\"\n",
    "print(\"student name is of \", type(student))\n",
    "school = \"APS\"\n",
    "print(\"school is of \", type(school))\n",
    "y = 5.321\n",
    "print(\"y is of \", type(y))"
   ]
  },
  {
   "cell_type": "markdown",
   "id": "66c6f33f",
   "metadata": {},
   "source": [
    "### 6. To Check the ID of a Variable\n"
   ]
  },
  {
   "cell_type": "code",
   "execution_count": null,
   "id": "551778e3",
   "metadata": {},
   "outputs": [],
   "source": [
    "name = \"waseem\"\n",
    "classm = \"Mphil\"\n",
    "roll=\"one\"\n",
    "\n",
    "id(name), id(classm),id(roll)"
   ]
  },
  {
   "cell_type": "markdown",
   "id": "d4478bda",
   "metadata": {},
   "source": [
    "### 7. Do we actually store data inside variables"
   ]
  },
  {
   "cell_type": "code",
   "execution_count": null,
   "id": "fa172d99",
   "metadata": {},
   "outputs": [],
   "source": [
    "c = 50\n",
    "d = 50\n",
    "id(a), id(b)"
   ]
  },
  {
   "cell_type": "code",
   "execution_count": null,
   "id": "a9edba24",
   "metadata": {},
   "outputs": [],
   "source": [
    "a = 10\n",
    "b = 10\n",
    "id(a), id(b)"
   ]
  },
  {
   "cell_type": "code",
   "execution_count": null,
   "id": "bd2b73f2",
   "metadata": {},
   "outputs": [],
   "source": [
    "subject = \"GIS\"\n",
    "id(subject)"
   ]
  },
  {
   "cell_type": "code",
   "execution_count": null,
   "id": "e5251a01",
   "metadata": {},
   "outputs": [],
   "source": [
    "dept = \"center for GIS\"\n",
    "id(dept)"
   ]
  },
  {
   "cell_type": "code",
   "execution_count": null,
   "id": "66eafb38",
   "metadata": {},
   "outputs": [],
   "source": [
    "country = \"pakistan\"\n",
    "id(country)"
   ]
  },
  {
   "cell_type": "code",
   "execution_count": null,
   "id": "eaa11f86",
   "metadata": {},
   "outputs": [],
   "source": [
    "city = \"Lahore\"\n",
    "id(city)"
   ]
  },
  {
   "cell_type": "code",
   "execution_count": null,
   "id": "54bbdd4c",
   "metadata": {},
   "outputs": [],
   "source": [
    "print(dir())"
   ]
  },
  {
   "cell_type": "code",
   "execution_count": null,
   "id": "9a07a4af",
   "metadata": {},
   "outputs": [],
   "source": [
    "newvar = 10\n",
    "print(\"newvar=\", newvar)"
   ]
  },
  {
   "cell_type": "code",
   "execution_count": null,
   "id": "ac57a2d1",
   "metadata": {},
   "outputs": [],
   "source": [
    "print(dir())"
   ]
  },
  {
   "cell_type": "code",
   "execution_count": null,
   "id": "0c52b477",
   "metadata": {},
   "outputs": [],
   "source": [
    "del length\n",
    "print(dir())"
   ]
  },
  {
   "cell_type": "code",
   "execution_count": null,
   "id": "b5dd1ab6",
   "metadata": {
    "scrolled": true
   },
   "outputs": [],
   "source": [
    "import math\n",
    "print(dir(math))"
   ]
  },
  {
   "cell_type": "code",
   "execution_count": null,
   "id": "65e74a95",
   "metadata": {},
   "outputs": [],
   "source": [
    "import pandas\n",
    "print(dir(pandas))"
   ]
  },
  {
   "cell_type": "code",
   "execution_count": null,
   "id": "22018e99",
   "metadata": {},
   "outputs": [],
   "source": [
    "name = \"waseem\"\n",
    "print(type(name))"
   ]
  },
  {
   "cell_type": "code",
   "execution_count": null,
   "id": "d9b5480b",
   "metadata": {},
   "outputs": [],
   "source": [
    "name = \"Waseem\"\n",
    "print(type(name))\n",
    "Alphabet = \"abc\"\n",
    "print(type(Alphabet))"
   ]
  },
  {
   "cell_type": "code",
   "execution_count": null,
   "id": "74cb4e37",
   "metadata": {},
   "outputs": [],
   "source": []
  }
 ],
 "metadata": {
  "kernelspec": {
   "display_name": "Python 3 (ipykernel)",
   "language": "python",
   "name": "python3"
  },
  "language_info": {
   "codemirror_mode": {
    "name": "ipython",
    "version": 3
   },
   "file_extension": ".py",
   "mimetype": "text/x-python",
   "name": "python",
   "nbconvert_exporter": "python",
   "pygments_lexer": "ipython3",
   "version": "3.11.5"
  }
 },
 "nbformat": 4,
 "nbformat_minor": 5
}
