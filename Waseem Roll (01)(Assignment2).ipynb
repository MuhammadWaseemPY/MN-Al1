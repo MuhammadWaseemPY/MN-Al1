{
 "cells": [
  {
   "cell_type": "markdown",
   "id": "2736825d",
   "metadata": {},
   "source": [
    "<h1 align=\"center\">Numbers</h1>"
   ]
  },
  {
   "cell_type": "code",
   "execution_count": null,
   "id": "278568bd",
   "metadata": {},
   "outputs": [],
   "source": [
    "name =\"waseem\"\n",
    "session =23\n",
    "dept =\"CGIS\"\n",
    "print(type(name))\n",
    "print(type(session))\n",
    "print(type(dept))"
   ]
  },
  {
   "cell_type": "code",
   "execution_count": null,
   "id": "6c0e10f7",
   "metadata": {},
   "outputs": [],
   "source": [
    "marks = 10\n",
    "tree = 20.5\n",
    "t = complex(3, 2)  \n",
    "y = 3 + 2j\n",
    "city = True\n",
    "print(type(marks))\n",
    "print(type(tree))\n",
    "print(type(t))\n",
    "print(type(y))"
   ]
  },
  {
   "cell_type": "code",
   "execution_count": null,
   "id": "21aa6467",
   "metadata": {},
   "outputs": [],
   "source": [
    "\n",
    "marks = 10 < 100\n",
    "print(marks)\n",
    "print(type(marks))"
   ]
  },
  {
   "cell_type": "code",
   "execution_count": null,
   "id": "16d3f182",
   "metadata": {},
   "outputs": [],
   "source": [
    "\"\"\"\n",
    "boolean data type in Python?\n",
    "In Python, True represents the value as 1 and False as 0. \n",
    "\"\"\"\n",
    "x = (-1 == True)\n",
    "y = (1 == False)\n",
    "print(\"x is\", x)\n",
    "print(\"y is\", y)"
   ]
  },
  {
   "cell_type": "code",
   "execution_count": null,
   "id": "dad90945",
   "metadata": {},
   "outputs": [],
   "source": [
    "# Booleans are automatically converted to `int`s when used in arithmetic operations. \n",
    "# `True` is converted to `1` and `False` is converted to `0`.\n",
    "start = True + 9\n",
    "end = False + 15\n",
    "\n",
    "print(\"start:\", start)\n",
    "print(\"end:\", end)"
   ]
  },
  {
   "cell_type": "code",
   "execution_count": null,
   "id": "790ea70b",
   "metadata": {},
   "outputs": [],
   "source": [
    "bool(0)"
   ]
  },
  {
   "cell_type": "code",
   "execution_count": null,
   "id": "523e77fd",
   "metadata": {},
   "outputs": [],
   "source": [
    "bool(0.0)"
   ]
  },
  {
   "cell_type": "code",
   "execution_count": null,
   "id": "608bb8c8",
   "metadata": {},
   "outputs": [],
   "source": [
    "bool(None)"
   ]
  },
  {
   "cell_type": "code",
   "execution_count": null,
   "id": "a054f711",
   "metadata": {},
   "outputs": [],
   "source": [
    "bool(\"\")"
   ]
  },
  {
   "cell_type": "code",
   "execution_count": null,
   "id": "fcdc71a5",
   "metadata": {},
   "outputs": [],
   "source": [
    "bool([])"
   ]
  },
  {
   "cell_type": "code",
   "execution_count": null,
   "id": "0ad21ab2",
   "metadata": {},
   "outputs": [],
   "source": [
    "var1 = None"
   ]
  },
  {
   "cell_type": "code",
   "execution_count": null,
   "id": "daee6df3",
   "metadata": {},
   "outputs": [],
   "source": [
    "type(var1)"
   ]
  },
  {
   "cell_type": "code",
   "execution_count": null,
   "id": "5a737b4d",
   "metadata": {
    "scrolled": true
   },
   "outputs": [],
   "source": [
    "# format to declare a comples number: z = complex(real_part, imaginary_part)\n",
    "comp1 = complex(3, 4)  # 3 + 4j\n",
    "comp2 = complex(1, -2) # 1 - 2j\n",
    "print(comp1)\n",
    "print(comp2)"
   ]
  },
  {
   "cell_type": "code",
   "execution_count": null,
   "id": "eb9904b1",
   "metadata": {},
   "outputs": [],
   "source": [
    "result = comp1 + comp2\n",
    "result"
   ]
  },
  {
   "cell_type": "markdown",
   "id": "10f47a7e",
   "metadata": {},
   "source": [
    "### 2. Issues with Float data types"
   ]
  },
  {
   "cell_type": "code",
   "execution_count": null,
   "id": "d20c1eea",
   "metadata": {},
   "outputs": [],
   "source": [
    "'''\n",
    "Floating-point numbers are stored in computer hardware in IEEE-754 format\n",
    "Be watchful while performing various operations on floating point numbers\n",
    "'''\n",
    "a = 3.3\n",
    "b = 1.0 + 2.0\n",
    "c = (a == b)\n",
    "a, b, c"
   ]
  },
  {
   "cell_type": "code",
   "execution_count": null,
   "id": "ae349ec9",
   "metadata": {},
   "outputs": [],
   "source": [
    "num = 3.3\n",
    "num1 = 1.0 + 2.0\n",
    "num==num1\n"
   ]
  },
  {
   "cell_type": "code",
   "execution_count": null,
   "id": "728acfa8",
   "metadata": {},
   "outputs": [],
   "source": [
    "num,num1"
   ]
  },
  {
   "cell_type": "code",
   "execution_count": null,
   "id": "a25db0e1",
   "metadata": {},
   "outputs": [],
   "source": [
    "num*num1"
   ]
  },
  {
   "cell_type": "code",
   "execution_count": null,
   "id": "bfb290c7",
   "metadata": {},
   "outputs": [],
   "source": []
  },
  {
   "cell_type": "markdown",
   "id": "e2c45a9e",
   "metadata": {},
   "source": [
    "### a. Implicit Type Conversion"
   ]
  },
  {
   "cell_type": "code",
   "execution_count": null,
   "id": "e9430936",
   "metadata": {},
   "outputs": [],
   "source": [
    "total = 2 + 3\n",
    "estimate = 2 + 3.0\n",
    "type(total), type(estimate)"
   ]
  },
  {
   "cell_type": "code",
   "execution_count": null,
   "id": "729b1d66",
   "metadata": {},
   "outputs": [],
   "source": [
    "max1 = 3 * 5\n",
    "max2 = 3 * 5.0\n",
    "type(max1), type(max2)"
   ]
  },
  {
   "cell_type": "code",
   "execution_count": null,
   "id": "5bae316c",
   "metadata": {},
   "outputs": [],
   "source": [
    "a = 4/2\n",
    "b = 4/2.0\n",
    "max1 = 3 * 5\n",
    "max2 = 3 * 5.0\n",
    "total = 2 + 3\n",
    "estimate = 2 + 3.0\n",
    "\n",
    "type(a), type(b) ,type(max1), type(max2) ,type(total), type(estimate)"
   ]
  },
  {
   "cell_type": "code",
   "execution_count": null,
   "id": "38c3212f",
   "metadata": {},
   "outputs": [],
   "source": [
    "a = 4/4\n",
    "b = 4/2.4\n",
    "c = 3 * 5\n",
    "d = 3 * 5.7\n",
    "e = 1 + 3\n",
    "f = 3 + 3.0\n",
    "type(a), type(b) ,type(c), type(d) ,type(e), type(f)"
   ]
  },
  {
   "cell_type": "markdown",
   "id": "a192930f",
   "metadata": {},
   "source": [
    "####  Convert to Integer using ` int (a)`  function"
   ]
  },
  {
   "cell_type": "code",
   "execution_count": null,
   "id": "3df997bc",
   "metadata": {},
   "outputs": [],
   "source": [
    "x = '21'\n",
    "type(x), x\n"
   ]
  },
  {
   "cell_type": "code",
   "execution_count": null,
   "id": "ee452e3e",
   "metadata": {},
   "outputs": [],
   "source": [
    "y = int(x)\n",
    "type(y), y"
   ]
  },
  {
   "cell_type": "code",
   "execution_count": null,
   "id": "be8e4b6a",
   "metadata": {},
   "outputs": [],
   "source": [
    "z = bool(-5)\n",
    "type(z), z"
   ]
  },
  {
   "cell_type": "code",
   "execution_count": null,
   "id": "13349a50",
   "metadata": {},
   "outputs": [],
   "source": [
    "# You can also use hex() and oct() functions\n",
    "print(hex(21))\n",
    "print(oct(21))"
   ]
  },
  {
   "cell_type": "markdown",
   "id": "cf69b598",
   "metadata": {},
   "source": [
    "####  Convert to Float  using  `float (a)` function"
   ]
  },
  {
   "cell_type": "code",
   "execution_count": null,
   "id": "8e51ba53",
   "metadata": {},
   "outputs": [],
   "source": [
    "s = 54\n",
    "type(s), s"
   ]
  },
  {
   "cell_type": "code",
   "execution_count": null,
   "id": "038b8ac9",
   "metadata": {},
   "outputs": [],
   "source": [
    "w = float(s)\n",
    "type(w), w"
   ]
  },
  {
   "cell_type": "code",
   "execution_count": null,
   "id": "0d38acc2",
   "metadata": {},
   "outputs": [],
   "source": [
    "# Note that a and be are two different objects\n",
    "id(s), id(w)"
   ]
  },
  {
   "cell_type": "markdown",
   "id": "b900a11c",
   "metadata": {},
   "source": [
    "####  Convert an Integer to a String  using  `str (a)`  function"
   ]
  },
  {
   "cell_type": "code",
   "execution_count": null,
   "id": "98952c0a",
   "metadata": {},
   "outputs": [],
   "source": [
    "num = 341\n",
    "type(num), num"
   ]
  },
  {
   "cell_type": "code",
   "execution_count": null,
   "id": "9fa0b140",
   "metadata": {},
   "outputs": [],
   "source": [
    "mystr = str(num)\n",
    "type(mystr), mystr"
   ]
  },
  {
   "cell_type": "markdown",
   "id": "25ff32a0",
   "metadata": {},
   "source": [
    "####  Convert two Floats to Complex Data type  using  `complex (a, b)`  function"
   ]
  },
  {
   "cell_type": "code",
   "execution_count": null,
   "id": "ff4da2ff",
   "metadata": {},
   "outputs": [],
   "source": [
    "first = 2.6\n",
    "second = 3.2\n",
    "final = complex(first,second)\n",
    "type(final), final"
   ]
  },
  {
   "cell_type": "code",
   "execution_count": null,
   "id": "16d71157",
   "metadata": {},
   "outputs": [],
   "source": [
    "nm = \"office\"\n",
    "type(nm), nm"
   ]
  },
  {
   "cell_type": "code",
   "execution_count": null,
   "id": "815c880a",
   "metadata": {},
   "outputs": [],
   "source": [
    "nm = ()\n",
    "type(nm), nm"
   ]
  },
  {
   "cell_type": "code",
   "execution_count": null,
   "id": "831181ed",
   "metadata": {},
   "outputs": [],
   "source": []
  }
 ],
 "metadata": {
  "kernelspec": {
   "display_name": "Python 3 (ipykernel)",
   "language": "python",
   "name": "python3"
  },
  "language_info": {
   "codemirror_mode": {
    "name": "ipython",
    "version": 3
   },
   "file_extension": ".py",
   "mimetype": "text/x-python",
   "name": "python",
   "nbconvert_exporter": "python",
   "pygments_lexer": "ipython3",
   "version": "3.11.5"
  }
 },
 "nbformat": 4,
 "nbformat_minor": 5
}
