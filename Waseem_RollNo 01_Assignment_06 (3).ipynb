{
  "metadata": {
    "kernelspec": {
      "name": "python",
      "display_name": "Python (Pyodide)",
      "language": "python"
    },
    "language_info": {
      "codemirror_mode": {
        "name": "python",
        "version": 3
      },
      "file_extension": ".py",
      "mimetype": "text/x-python",
      "name": "python",
      "nbconvert_exporter": "python",
      "pygments_lexer": "ipython3",
      "version": "3.8"
    }
  },
  "nbformat_minor": 5,
  "nbformat": 4,
  "cells": [
    {
      "id": "292d70c6",
      "cell_type": "markdown",
      "source": "### Assignment-06 (Functions)\n- Change the notebook name with your name and Roll Number.\n- Try this as your own, no chatgpt (it's for your learning)\n- after completing the assignment, submit this book on google class room.",
      "metadata": {}
    },
    {
      "id": "a78a8d1f",
      "cell_type": "markdown",
      "source": "Write a function named add_numbers that takes two parameters and returns their sum.",
      "metadata": {}
    },
    {
      "id": "ecc43aae",
      "cell_type": "code",
      "source": "def add_numbers(x, y):\n    z = x + y\n    return z\n    \nsumv = add_numbers(8, 9)\nprint(sumv)",
      "metadata": {
        "trusted": true
      },
      "outputs": [
        {
          "name": "stdout",
          "text": "17\n",
          "output_type": "stream"
        }
      ],
      "execution_count": 1
    },
    {
      "id": "b8557bc1",
      "cell_type": "markdown",
      "source": "Define a function calculate_area to compute the area of a rectangle given its length and width.",
      "metadata": {}
    },
    {
      "id": "5da1bce6",
      "cell_type": "code",
      "source": "def calculate_area(l,w):\n    a=l*w\n    return a  \n    \nfinal=calculate_area(2,5)\nprint(\"area:\",final)",
      "metadata": {},
      "outputs": [
        {
          "name": "stdout",
          "output_type": "stream",
          "text": [
            "area: 10\n"
          ]
        }
      ],
      "execution_count": 13
    },
    {
      "id": "ced07c44",
      "cell_type": "markdown",
      "source": "Add a docstring to the calculate_area function explaining its purpose.",
      "metadata": {}
    },
    {
      "id": "a5a19740",
      "cell_type": "code",
      "source": "def calculate_area(l,w):\n    \"\"\"By Giving length and width of triangle it will \n    calculate area\"\"\"\n    a=l*w\n    return a  \n    \nfinal=calculate_area(2,5)\nprint(\"area:\",final)",
      "metadata": {},
      "outputs": [
        {
          "name": "stdout",
          "output_type": "stream",
          "text": [
            "area: 10\n"
          ]
        }
      ],
      "execution_count": 14
    },
    {
      "id": "4fc035fa",
      "cell_type": "code",
      "source": "help(calculate_area)",
      "metadata": {},
      "outputs": [
        {
          "name": "stdout",
          "output_type": "stream",
          "text": [
            "Help on function calculate_area in module __main__:\n",
            "\n",
            "calculate_area(l, w)\n",
            "    By Giving length and width of triangle it will \n",
            "    calculate area\n",
            "\n"
          ]
        }
      ],
      "execution_count": 15
    },
    {
      "id": "eaa57b3d",
      "cell_type": "markdown",
      "source": "Create a function print_greeting that takes a name as an argument and prints a personalized greeting.\n",
      "metadata": {}
    },
    {
      "id": "134dff75",
      "cell_type": "code",
      "source": "def print_greeting(name):\n    print(name)\n\nprint_greeting(\"welcom waseem\")  ",
      "metadata": {},
      "outputs": [
        {
          "name": "stdout",
          "output_type": "stream",
          "text": [
            "welcom waseem\n"
          ]
        }
      ],
      "execution_count": 20
    },
    {
      "id": "a9226488",
      "cell_type": "markdown",
      "source": "Write a function is_prime that checks if a given number is prime.\n",
      "metadata": {}
    },
    {
      "id": "787f0b36",
      "cell_type": "code",
      "source": "\nnum = 41\nflag = False\nif num == 1:\n    print(num, \"is not a prime number\")\nelif num > 1:\n    for i in range(2, num):\n        if (num % i) == 0:\n            # if factor is found, set flag to True\n            flag = True\n            break\n    if flag:\n        print(num, \"is not a prime number\")\n    else:\n        print(num, \"is a prime number\")",
      "metadata": {
        "trusted": true
      },
      "outputs": [
        {
          "name": "stdout",
          "text": "41 is a prime number\n",
          "output_type": "stream"
        }
      ],
      "execution_count": 25
    },
    {
      "id": "9b526fa5",
      "cell_type": "markdown",
      "source": "Implement a function factorial to calculate the factorial of a given number.\n",
      "metadata": {}
    },
    {
      "id": "800a23c7",
      "cell_type": "code",
      "source": "def factorial(n):\n    if n == 0 or n ==1:\n        return 1\n    else:\n        return n * factorial(n - 1)\nn = int(input(\"Input a number : \"))\nprint(factorial(n))\n",
      "metadata": {},
      "outputs": [
        {
          "name": "stdout",
          "output_type": "stream",
          "text": [
            "Input a number : 3\n",
            "6\n"
          ]
        }
      ],
      "execution_count": 22
    },
    {
      "id": "96ca84b5",
      "cell_type": "markdown",
      "source": "Create a function print_pattern to print a specific pattern of stars.",
      "metadata": {}
    },
    {
      "id": "3239542e",
      "cell_type": "code",
      "source": "def print_star_pattern(rows):\n    for i in range(1, rows + 1):\n        print('* ' * i)\nprint_star_pattern(7)\n",
      "metadata": {
        "trusted": true
      },
      "outputs": [
        {
          "name": "stdout",
          "text": "* \n* * \n* * * \n* * * * \n* * * * * \n* * * * * * \n* * * * * * * \n",
          "output_type": "stream"
        }
      ],
      "execution_count": 24
    },
    {
      "id": "dd5ace57",
      "cell_type": "markdown",
      "source": "Write a function multiply_numbers with default values for its parameters.",
      "metadata": {}
    },
    {
      "id": "9165cb2a",
      "cell_type": "code",
      "source": "def multiply_numbers(a=10, b=5):\n    c=a*b\n    return c\nresult=multiply_numbers()\nprint(result)",
      "metadata": {},
      "outputs": [
        {
          "name": "stdout",
          "output_type": "stream",
          "text": [
            "50\n"
          ]
        }
      ],
      "execution_count": 27
    },
    {
      "id": "7cd00e34",
      "cell_type": "markdown",
      "source": "Define a function print_info that takes a variable number of arguments and prints them.\n",
      "metadata": {}
    },
    {
      "id": "e8b03ed1",
      "cell_type": "code",
      "source": "",
      "metadata": {},
      "outputs": [],
      "execution_count": null
    },
    {
      "id": "21006c9c",
      "cell_type": "markdown",
      "source": "Create a function power_of_two that accepts a number and returns its square.\n",
      "metadata": {}
    },
    {
      "id": "ee003f0d",
      "cell_type": "code",
      "source": "def square_num(n):\n    my_result =n**2\n    return my_result\n\nn = int( input() )\nprint( square_num(n) )\n",
      "metadata": {},
      "outputs": [
        {
          "name": "stdout",
          "output_type": "stream",
          "text": [
            "5\n",
            "25\n"
          ]
        }
      ],
      "execution_count": 2
    },
    {
      "id": "8aca7c5d",
      "cell_type": "markdown",
      "source": "Define a variable inside a function and try to access it outside the function.",
      "metadata": {}
    },
    {
      "id": "1eecf2cb",
      "cell_type": "code",
      "source": "def func():\n  func.variable = \"waseem\"\nfunc()\nprint(func.variable)",
      "metadata": {
        "trusted": true
      },
      "outputs": [
        {
          "name": "stdout",
          "text": "waseem\n",
          "output_type": "stream"
        }
      ],
      "execution_count": 2
    },
    {
      "id": "27ef8bea",
      "cell_type": "markdown",
      "source": " Write a function that uses a variable from the enclosing scope.",
      "metadata": {}
    },
    {
      "id": "e4bc1865",
      "cell_type": "markdown",
      "source": "Create a global variable and modify it inside a function.",
      "metadata": {}
    },
    {
      "id": "16466e1d",
      "cell_type": "code",
      "source": "total = 100\ndef func():\n    global total\n    if total > 10:\n        total = 15\nfunc()\nprint( total)",
      "metadata": {
        "trusted": true
      },
      "outputs": [
        {
          "name": "stdout",
          "text": "15\n",
          "output_type": "stream"
        }
      ],
      "execution_count": 1
    },
    {
      "id": "05e33835",
      "cell_type": "markdown",
      "source": "Write a lambda function to calculate the cube of a number.",
      "metadata": {}
    },
    {
      "id": "a1066910",
      "cell_type": "code",
      "source": "def myFunc():\n    return lambda n: n * n * n\ncubenum = myFunc()\nprint(cubenum(3))   ",
      "metadata": {
        "trusted": true
      },
      "outputs": [
        {
          "name": "stdout",
          "text": "27\n",
          "output_type": "stream"
        }
      ],
      "execution_count": 4
    },
    {
      "id": "835f805c",
      "cell_type": "markdown",
      "source": "Use a lambda function as an argument with the map function.",
      "metadata": {}
    },
    {
      "id": "2c18968f",
      "cell_type": "code",
      "source": "nums = [1, 2, 3, 4, 5]\ncube_numbers = map(lambda x: x ** 3, nums)\nprint(list(cube_numbers)) \n",
      "metadata": {
        "trusted": true
      },
      "outputs": [
        {
          "name": "stdout",
          "text": "[1, 8, 27, 64, 125]\n",
          "output_type": "stream"
        }
      ],
      "execution_count": 3
    },
    {
      "id": "afd4b510",
      "cell_type": "markdown",
      "source": "Use a lambda function with the filter function to filter even numbers from a list.",
      "metadata": {}
    },
    {
      "id": "8b02f236",
      "cell_type": "code",
      "source": "fb = [0,1,1,2,3,5,8,13,21,34,55]\nprint(\"List of fibonacci values :\",fb)\nevenFb = list(filter(lambda n:n%2==0,fb))\nprint(\"List of even fibonacci values :\",evenFb)",
      "metadata": {
        "trusted": true
      },
      "outputs": [
        {
          "name": "stdout",
          "text": "List of fibonacci values : [0, 1, 1, 2, 3, 5, 8, 13, 21, 34, 55]\nList of even fibonacci values : [0, 2, 8, 34]\n",
          "output_type": "stream"
        }
      ],
      "execution_count": 6
    },
    {
      "id": "3b36cb84",
      "cell_type": "markdown",
      "source": "Apply a lambda function with the reduce function to find the product of a list.",
      "metadata": {}
    },
    {
      "id": "a5d035b3",
      "cell_type": "code",
      "source": "from functools import reduce \n\nnums = [ 3, 4]\nans = reduce(lambda x, y: x * y, nums)\nprint(ans) ",
      "metadata": {
        "trusted": true
      },
      "outputs": [
        {
          "name": "stdout",
          "text": "12\n",
          "output_type": "stream"
        }
      ],
      "execution_count": 9
    },
    {
      "id": "1462df0e",
      "cell_type": "markdown",
      "source": "Sort a list of tuples based on the second element using a lambda function.",
      "metadata": {}
    },
    {
      "id": "74e28382",
      "cell_type": "code",
      "source": "list_of_tuples = [\n\t('apple', 25),\n\t('banana', 54),\n\t('cherry', 10),\n\t('fig', 36)\n]\n\nsorted_list = sorted(list_of_tuples, key=lambda x: x[1])\n\nprint(sorted_list)",
      "metadata": {
        "trusted": true
      },
      "outputs": [
        {
          "name": "stdout",
          "text": "[('cherry', 10), ('apple', 25), ('fig', 36), ('banana', 54)]\n",
          "output_type": "stream"
        }
      ],
      "execution_count": 10
    },
    {
      "id": "c0978a54",
      "cell_type": "markdown",
      "source": "Demonstrate the use of the zip function with two lists.",
      "metadata": {}
    },
    {
      "id": "9d41c722",
      "cell_type": "code",
      "source": "fruits = ['apple', 'banana', 'cherry']\ncolors = ['red', 'yellow', 'pink']\nresult = zip(fruits, colors)\nprint(result)\nlist(result)      ",
      "metadata": {
        "trusted": true
      },
      "outputs": [
        {
          "name": "stdout",
          "text": "<zip object at 0x226a9b0>\n",
          "output_type": "stream"
        },
        {
          "execution_count": 14,
          "output_type": "execute_result",
          "data": {
            "text/plain": "[('apple', 'red'), ('banana', 'yellow'), ('cherry', 'pink')]"
          },
          "metadata": {}
        }
      ],
      "execution_count": 14
    },
    {
      "id": "00d634fa",
      "cell_type": "markdown",
      "source": "Implement a generator function that generates Fibonacci numbers.",
      "metadata": {}
    },
    {
      "id": "6cd6a877",
      "cell_type": "code",
      "source": "",
      "metadata": {
        "trusted": true
      },
      "outputs": [],
      "execution_count": null
    },
    {
      "id": "cfdbada2",
      "cell_type": "markdown",
      "source": "Use a generator expression to create a sequence of squares.",
      "metadata": {}
    },
    {
      "id": "e9501d2f-26cd-44eb-a3e5-a755939124dd",
      "cell_type": "code",
      "source": "limit = 4\nss_generator = (x ** 2 for x in range(limit))\nprint(list(ss_generator))\n",
      "metadata": {
        "trusted": true
      },
      "outputs": [
        {
          "name": "stdout",
          "text": "[0, 1, 4, 9]\n",
          "output_type": "stream"
        }
      ],
      "execution_count": 22
    },
    {
      "id": "c1732ffe",
      "cell_type": "markdown",
      "source": "Write a function that uses the yield statement to produce a generator.",
      "metadata": {}
    },
    {
      "id": "77d601a1",
      "cell_type": "code",
      "source": "def square_generator(limit):\n    current = 0\n    while current < limit:\n        yield current ** 2\n        current += 1\nfor square in square_generator(5):\n    print(square)\n",
      "metadata": {
        "trusted": true
      },
      "outputs": [
        {
          "name": "stdout",
          "text": "0\n1\n4\n9\n16\n",
          "output_type": "stream"
        }
      ],
      "execution_count": 20
    },
    {
      "id": "413bf1e2",
      "cell_type": "markdown",
      "source": "Explain the difference between iterators and generators in Python.",
      "metadata": {}
    },
    {
      "id": "8b944f0e",
      "cell_type": "code",
      "source": "#iterators\nnums = [1, 2, 3, 4]\nobj = iter(nums)\nprint(next(obj))\nprint(next(obj))\nprint(next(obj))\nprint(next(obj))",
      "metadata": {
        "trusted": true
      },
      "outputs": [
        {
          "name": "stdout",
          "text": "1\n2\n3\n4\n",
          "output_type": "stream"
        }
      ],
      "execution_count": 18
    },
    {
      "id": "fdd97489-b7fe-403e-a6e2-3e29a9f9f063",
      "cell_type": "code",
      "source": "def nums(): #genrators\n   for i in range(1, 5):\n       yield i\n\nobj = nums()\nprint(next(obj))\nprint(next(obj))\nprint(next(obj))\nprint(next(obj))",
      "metadata": {
        "trusted": true
      },
      "outputs": [
        {
          "name": "stdout",
          "text": "1\n2\n3\n4\n",
          "output_type": "stream"
        }
      ],
      "execution_count": 19
    },
    {
      "id": "0d59b556",
      "cell_type": "markdown",
      "source": "Write a Python program that includes a nested function. Inside the nested function, access a variable from the enclosing function's scope, and explain how the scope resolution works in this case.",
      "metadata": {}
    },
    {
      "id": "992f17dd",
      "cell_type": "code",
      "source": "def outer_function():\n    a_variable = \"outside function\"\n    def nested_function():\n        print(a_variable)\n        nested_function()\nouter_function()\n",
      "metadata": {
        "trusted": true
      },
      "outputs": [],
      "execution_count": 30
    },
    {
      "id": "a945086c",
      "cell_type": "markdown",
      "source": "Create a list of strings containing both uppercase and lowercase words. Use a lambda function with the sorted() function to sort the list in a case-insensitive manner.",
      "metadata": {}
    },
    {
      "id": "d6445a64",
      "cell_type": "code",
      "source": "name_list = ['waseem', 'Ali', 'Baber', 'javed']\nprint(\"Original list\", name_list) \n\nname_list.sort(key=lambda name: name.split()[0])\nprint(\"Sorted name list\", name_list)",
      "metadata": {
        "trusted": true
      },
      "outputs": [
        {
          "name": "stdout",
          "text": "Original list ['waseem', 'Ali', 'Baber', 'javed']\nSorted name list ['Ali', 'Baber', 'javed', 'waseem']\n",
          "output_type": "stream"
        }
      ],
      "execution_count": 36
    },
    {
      "id": "9b5aa572",
      "cell_type": "markdown",
      "source": "Implement a generator function that yields prime numbers indefinitely. Use this generator to print the first 10 prime numbers.",
      "metadata": {}
    },
    {
      "id": "86f1ead1",
      "cell_type": "code",
      "source": "def is_prime(number):\n    return number > 1 and all(number % i != 0 for i in range(2, int(number**0.5) + 1))\n\ndef prime_generator():\n    number = 2\n    while True:\n        if is_prime(number):\n            yield number\n        number += 1\n\n# Print the first 10 prime numbers using the generator\nprime_gen = prime_generator()\nprint([next(prime_gen) for _ in range(10)])\n",
      "metadata": {
        "trusted": true
      },
      "outputs": [
        {
          "name": "stdout",
          "text": "[2, 3, 5, 7, 11, 13, 17, 19, 23, 29]\n",
          "output_type": "stream"
        }
      ],
      "execution_count": 37
    },
    {
      "id": "e3b956a8",
      "cell_type": "markdown",
      "source": "Write a decorator function that measures the execution time of another function. Apply this decorator to a function of your choice and print the execution time.",
      "metadata": {}
    },
    {
      "id": "ebbab120",
      "cell_type": "code",
      "source": "from datetime import datetime\nimport time\n\ndef decorating_func(own_func):\n    print(datetime.now().strftime('%Y-%m-%d %H:%M:%S'))\n    return own_func\n\n@decorating_func\ndef addition(num1,num2):\n    return num1 + num2\n\n@decorating_func\ndef multiply(num1,num2):\n    return num1 * num2\n\nprint(addition(10,5))\ntime.sleep(71)\nprint(multiply(10,5))",
      "metadata": {
        "trusted": true
      },
      "outputs": [],
      "execution_count": null
    },
    {
      "id": "e2bbd3e3",
      "cell_type": "markdown",
      "source": "",
      "metadata": {}
    },
    {
      "id": "ef19ab60-ae0e-4051-bfac-1d893baeacad",
      "cell_type": "code",
      "source": "",
      "metadata": {
        "trusted": true
      },
      "outputs": [],
      "execution_count": null
    },
    {
      "id": "b3ee6fb8-c576-4d19-a962-0ffa2a6c4ad9",
      "cell_type": "code",
      "source": "",
      "metadata": {
        "trusted": true
      },
      "outputs": [],
      "execution_count": null
    }
  ]
}