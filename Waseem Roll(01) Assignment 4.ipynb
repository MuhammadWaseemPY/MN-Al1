{
 "cells": [
  {
   "cell_type": "markdown",
   "id": "78d11dc1",
   "metadata": {},
   "source": [
    "##  Lists\n"
   ]
  },
  {
   "cell_type": "code",
   "execution_count": 7,
   "id": "88801cf7",
   "metadata": {},
   "outputs": [
    {
     "name": "stdout",
     "output_type": "stream",
     "text": [
      "['orange', 'bannana', 'grapes', 'peach']\n",
      "[70, 90, 42, 44]\n"
     ]
    }
   ],
   "source": [
    "\n",
    "\n",
    "fruits = [\"orange\",\"bannana\",\"grapes\",\"peach\"]  \n",
    "print(fruits)\n",
    "\n",
    "marks = [70, 90, 42, 44 ]  \n",
    "print(marks)\n",
    "\n",
    "\n"
   ]
  },
  {
   "cell_type": "code",
   "execution_count": 9,
   "id": "123d74c6",
   "metadata": {},
   "outputs": [
    {
     "name": "stdout",
     "output_type": "stream",
     "text": [
      "[1, 2, 3.5, 7, 'Done']\n"
     ]
    }
   ],
   "source": [
    "\n",
    "check=[1,2,3.5,7,\"Done\"]\n",
    "print(check)"
   ]
  },
  {
   "cell_type": "code",
   "execution_count": 10,
   "id": "458957c8",
   "metadata": {},
   "outputs": [
    {
     "name": "stdout",
     "output_type": "stream",
     "text": [
      "['waseem', 90, 5.5, [10, 'Ali']]\n"
     ]
    }
   ],
   "source": [
    "\n",
    "List_complete = [\"waseem\", 90, 5.5, [10,'Ali']]\n",
    "print(List_complete)"
   ]
  },
  {
   "cell_type": "code",
   "execution_count": 4,
   "id": "539f6d47",
   "metadata": {},
   "outputs": [
    {
     "name": "stdout",
     "output_type": "stream",
     "text": [
      "[]\n"
     ]
    }
   ],
   "source": [
    "\n",
    "empty_list = []\n",
    "print (empty_list)"
   ]
  },
  {
   "cell_type": "code",
   "execution_count": 11,
   "id": "a11b5b3f",
   "metadata": {},
   "outputs": [
    {
     "name": "stdout",
     "output_type": "stream",
     "text": [
      "[1, 2, 3, 4, 5]\n",
      "['Arif', 30, 5.5, [10, 'rauf']]\n",
      "[]\n"
     ]
    }
   ],
   "source": [
    "\n",
    "no = [1,2,3,4,5]\n",
    "mix = [\"Arif\", 30, 5.5, [10,'rauf']]\n",
    "empty_box = []\n",
    "\n",
    "print(no, mix, empty_box, sep='\\n')"
   ]
  },
  {
   "cell_type": "code",
   "execution_count": 12,
   "id": "c7d89e9f",
   "metadata": {},
   "outputs": [
    {
     "name": "stdout",
     "output_type": "stream",
     "text": [
      "[1, 2, 3, 4, 5] ['Arif', 30, 5.5, [10, 'rauf']] []\n"
     ]
    }
   ],
   "source": [
    "no = [1,2,3,4,5]\n",
    "mix = [\"Arif\", 30, 5.5, [10,'rauf']]\n",
    "empty_box = []\n",
    "\n",
    "print(no, mix, empty_box)"
   ]
  },
  {
   "cell_type": "markdown",
   "id": "48f77dc4",
   "metadata": {},
   "source": [
    "##  Proof of concepts"
   ]
  },
  {
   "cell_type": "code",
   "execution_count": 16,
   "id": "e42284d8",
   "metadata": {},
   "outputs": [
    {
     "name": "stdout",
     "output_type": "stream",
     "text": [
      "Diff:  ['waseem', 'GIS', 'PU', 100, 80]\n"
     ]
    }
   ],
   "source": [
    "Diff = [\"waseem\",\"GIS\",\"PU\" ,100,80]\n",
    "print(\"Diff: \", Diff)"
   ]
  },
  {
   "cell_type": "code",
   "execution_count": 17,
   "id": "4d10cb93",
   "metadata": {},
   "outputs": [
    {
     "data": {
      "text/plain": [
       "(1550996274432, 1550996274432, True, True)"
      ]
     },
     "execution_count": 17,
     "metadata": {},
     "output_type": "execute_result"
    }
   ],
   "source": [
    "same = [1, 2, 3]\n",
    "same = [1, 2, 3]\n",
    "id(same), id(same), same is same, same==same"
   ]
  },
  {
   "cell_type": "code",
   "execution_count": 18,
   "id": "dd283af5",
   "metadata": {},
   "outputs": [
    {
     "data": {
      "text/plain": [
       "(1550996761984, 1550996532672, False)"
      ]
     },
     "execution_count": 18,
     "metadata": {},
     "output_type": "execute_result"
    }
   ],
   "source": [
    "time = [1, 2, 3]\n",
    "hours = [2, 3, 1]\n",
    "id(time), id(hours), time is hours"
   ]
  },
  {
   "cell_type": "markdown",
   "id": "a4d31dd7",
   "metadata": {},
   "source": [
    "###  Lists are mutable\n"
   ]
  },
  {
   "cell_type": "code",
   "execution_count": 9,
   "id": "3942c4a3",
   "metadata": {},
   "outputs": [
    {
     "name": "stdout",
     "output_type": "stream",
     "text": [
      "numbers:  [10, 20, 555, 40, 50]\n"
     ]
    }
   ],
   "source": [
    "numbers = [10, 20, 30, 40, 50]\n",
    "numbers[2] = 555\n",
    "print(\"numbers: \", numbers)"
   ]
  },
  {
   "cell_type": "code",
   "execution_count": 10,
   "id": "129d7a5e",
   "metadata": {},
   "outputs": [
    {
     "name": "stdout",
     "output_type": "stream",
     "text": [
      "numbers:  [10, 20, 555, 40, 50]\n"
     ]
    }
   ],
   "source": [
    "numbers = [10, 20, 30, 40, 50]\n",
    "numbers[2] = 555\n",
    "print(\"numbers: \", numbers)"
   ]
  },
  {
   "cell_type": "markdown",
   "id": "f1271382",
   "metadata": {},
   "source": [
    "###  Lists can have duplicate emements"
   ]
  },
  {
   "cell_type": "code",
   "execution_count": 19,
   "id": "904f68ac",
   "metadata": {},
   "outputs": [
    {
     "name": "stdout",
     "output_type": "stream",
     "text": [
      "['Arif', 'Rauf', 'Hadeed', 'Arif', 'Mujahid']\n"
     ]
    }
   ],
   "source": [
    "\n",
    "names = ['waseem', 'Usama', 'Junaid', 'Atif', 'Rehan']\n",
    "print(names)"
   ]
  },
  {
   "cell_type": "code",
   "execution_count": 20,
   "id": "c8defb58",
   "metadata": {},
   "outputs": [
    {
     "name": "stdout",
     "output_type": "stream",
     "text": [
      "['Bio', 'Bio', 'CS', 'Maths', 'Maths']\n"
     ]
    }
   ],
   "source": [
    "books = ['Bio', 'Bio', 'CS', 'Maths', 'Maths']\n",
    "print(books)"
   ]
  },
  {
   "cell_type": "markdown",
   "id": "1cbb9c99",
   "metadata": {},
   "source": [
    "###  Lists can be nested to arbitrary depth\n"
   ]
  },
  {
   "cell_type": "code",
   "execution_count": 22,
   "id": "de0ae65e",
   "metadata": {},
   "outputs": [
    {
     "data": {
      "text/plain": [
       "([1, 2, 3, [4, 5], [6, 7, 8, 9], 10, 11],\n",
       " [1, 2, 3, [4, 5, [6, 7, 8, [9, 10, 11]]]])"
      ]
     },
     "execution_count": 22,
     "metadata": {},
     "output_type": "execute_result"
    }
   ],
   "source": [
    "\n",
    "In_a = [1,2,3,[4,5],[6,7,8,9],10,11]\n",
    "\n",
    "in_b = [1,2,3,[4,5,[6,7,8,[9,10,11]]]]\n",
    "In_a, in_b"
   ]
  },
  {
   "cell_type": "markdown",
   "id": "ca269402",
   "metadata": {},
   "source": [
    "###  Packing and Unpacking Lists"
   ]
  },
  {
   "cell_type": "code",
   "execution_count": 25,
   "id": "4fc9e430",
   "metadata": {},
   "outputs": [
    {
     "name": "stdout",
     "output_type": "stream",
     "text": [
      "centre GIS Lahore\n",
      "<class 'str'>\n"
     ]
    }
   ],
   "source": [
    "\n",
    "Dept = ['centre', 'for', 'GIS', 'PU', 'Lahore']\n",
    "a, b, c, d, e = Dept\n",
    "print (a, c, e)\n",
    "print(type(a))"
   ]
  },
  {
   "cell_type": "code",
   "execution_count": 27,
   "id": "e994ce1b",
   "metadata": {},
   "outputs": [
    {
     "name": "stdout",
     "output_type": "stream",
     "text": [
      "['centre', 'for', 'GIS', 'PU', 'Lahore']\n",
      "<class 'list'>\n"
     ]
    }
   ],
   "source": [
    "\n",
    "unpac = a,b,c,d,e\n",
    "dept1 = list(unpac)\n",
    "print(dept1)\n",
    "print(type(dept1))"
   ]
  },
  {
   "cell_type": "markdown",
   "id": "418db83b",
   "metadata": {},
   "source": [
    "##  access elements of a list"
   ]
  },
  {
   "cell_type": "code",
   "execution_count": 30,
   "id": "d42c7653",
   "metadata": {},
   "outputs": [
    {
     "name": "stdout",
     "output_type": "stream",
     "text": [
      "[10, 'PU']\n",
      "s\n",
      "PU\n",
      "[10, 'PU']\n"
     ]
    }
   ],
   "source": [
    "\n",
    "name = [\"waseem\", 40, 5.5, [10,'PU']]\n",
    "print(name[3])\n",
    "print(name[0][2])              \n",
    "print(name[3][1]) \n",
    "print(name[-1])"
   ]
  },
  {
   "cell_type": "markdown",
   "id": "c9517d91",
   "metadata": {},
   "source": [
    "##  Slicing Lists\n"
   ]
  },
  {
   "cell_type": "code",
   "execution_count": 31,
   "id": "35e2ee1a",
   "metadata": {},
   "outputs": [
    {
     "data": {
      "text/plain": [
       "['a', 'b', 'c', 'd', 'e', 'f', 'g', 'h', 'i']"
      ]
     },
     "execution_count": 31,
     "metadata": {},
     "output_type": "execute_result"
    }
   ],
   "source": [
    "words = ['a','b','c','d','e','f','g','h','i']\n",
    "words"
   ]
  },
  {
   "cell_type": "code",
   "execution_count": 32,
   "id": "bf9edbdb",
   "metadata": {},
   "outputs": [
    {
     "data": {
      "text/plain": [
       "['a', 'b', 'c', 'd', 'e', 'f', 'g', 'h', 'i']"
      ]
     },
     "execution_count": 32,
     "metadata": {},
     "output_type": "execute_result"
    }
   ],
   "source": [
    "words[::]"
   ]
  },
  {
   "cell_type": "code",
   "execution_count": 33,
   "id": "7da08034",
   "metadata": {},
   "outputs": [
    {
     "data": {
      "text/plain": [
       "['d', 'e', 'f', 'g', 'h', 'i']"
      ]
     },
     "execution_count": 33,
     "metadata": {},
     "output_type": "execute_result"
    }
   ],
   "source": [
    "words[3:]"
   ]
  },
  {
   "cell_type": "code",
   "execution_count": 34,
   "id": "b0341f68",
   "metadata": {},
   "outputs": [
    {
     "data": {
      "text/plain": [
       "['a', 'b', 'c', 'd']"
      ]
     },
     "execution_count": 34,
     "metadata": {},
     "output_type": "execute_result"
    }
   ],
   "source": [
    "words[:4]"
   ]
  },
  {
   "cell_type": "code",
   "execution_count": 35,
   "id": "90138f70",
   "metadata": {},
   "outputs": [
    {
     "data": {
      "text/plain": [
       "['c', 'd', 'e']"
      ]
     },
     "execution_count": 35,
     "metadata": {},
     "output_type": "execute_result"
    }
   ],
   "source": [
    "words[2:5]"
   ]
  },
  {
   "cell_type": "code",
   "execution_count": 37,
   "id": "a88e461e",
   "metadata": {},
   "outputs": [
    {
     "data": {
      "text/plain": [
       "['a', 'b', 'c', 'd', 'e', 'f', 'g']"
      ]
     },
     "execution_count": 37,
     "metadata": {},
     "output_type": "execute_result"
    }
   ],
   "source": [
    "words[:-2]"
   ]
  },
  {
   "cell_type": "code",
   "execution_count": 36,
   "id": "9fbfba37",
   "metadata": {},
   "outputs": [
    {
     "data": {
      "text/plain": [
       "'i'"
      ]
     },
     "execution_count": 36,
     "metadata": {},
     "output_type": "execute_result"
    }
   ],
   "source": [
    "words[-1]"
   ]
  },
  {
   "cell_type": "code",
   "execution_count": 38,
   "id": "ed3fa5a4",
   "metadata": {},
   "outputs": [
    {
     "name": "stdout",
     "output_type": "stream",
     "text": [
      "['a', 'b', 'c', 'd', 'e', 'f', 'g', 'h', 'i']\n",
      "['a', 'b', 'c', 'd', 'e', 'f', 'g', 'h', 'i']\n",
      "['a', 'c', 'e', 'g', 'i']\n",
      "['a', 'd', 'g']\n"
     ]
    }
   ],
   "source": [
    "\n",
    "words = ['a','b','c','d','e','f','g','h','i']\n",
    "print(words[::])  \n",
    "print(words[::1]) \n",
    "print(words[::2]) \n",
    "print(words[::3])  "
   ]
  },
  {
   "cell_type": "code",
   "execution_count": 13,
   "id": "470034d1",
   "metadata": {},
   "outputs": [
    {
     "name": "stdout",
     "output_type": "stream",
     "text": [
      "['a', 'd', 'g']\n",
      "['d', 'e', 'f']\n",
      "[]\n",
      "['i', 'h']\n"
     ]
    }
   ],
   "source": [
    "list1 = ['a','b','c','d','e','f','g','h','i']\n",
    "\n",
    "print(list1[::3])\n",
    "print(list1[3:6])\n",
    "print(list1[2:8:-1])\n",
    "print(list1[-1:-3:-1])"
   ]
  },
  {
   "cell_type": "markdown",
   "id": "6807e6b2",
   "metadata": {},
   "source": [
    "###  Concatenating Lists\n"
   ]
  },
  {
   "cell_type": "code",
   "execution_count": 1,
   "id": "6106dde2",
   "metadata": {},
   "outputs": [
    {
     "name": "stdout",
     "output_type": "stream",
     "text": [
      "['fruits', 'bread', 'veggies', 'meat', 'spices', 'burger']\n"
     ]
    }
   ],
   "source": [
    "\n",
    "food_item1 = ['fruits', 'bread', 'veggies'] \n",
    "food_items2 = ['meat', 'spices', 'burger']\n",
    "food = food_item1 + food_items2\n",
    "print(food)"
   ]
  },
  {
   "cell_type": "markdown",
   "id": "75f6b199",
   "metadata": {},
   "source": [
    "###  Replicating Lists\n"
   ]
  },
  {
   "cell_type": "code",
   "execution_count": 3,
   "id": "d4208107",
   "metadata": {},
   "outputs": [
    {
     "name": "stdout",
     "output_type": "stream",
     "text": [
      "['waseem', 'Hadeed', 'Naeem', 'waseem', 'Hadeed', 'Naeem', 'waseem', 'Hadeed', 'Naeem']\n"
     ]
    }
   ],
   "source": [
    "# use list * n syntax to create large lists by repeating the list n times\n",
    "name = ['waseem', 'Hadeed', 'Naeem']\n",
    "m = name * 3\n",
    "print(m)"
   ]
  },
  {
   "cell_type": "markdown",
   "id": "b533ec2b",
   "metadata": {},
   "source": [
    "###  Modifying/Adding elements to a list using [ ] operator"
   ]
  },
  {
   "cell_type": "code",
   "execution_count": 5,
   "id": "9a5ac824",
   "metadata": {},
   "outputs": [
    {
     "data": {
      "text/plain": [
       "['PUCIT', 'Punjab University', 2, 5, 7]"
      ]
     },
     "execution_count": 5,
     "metadata": {},
     "output_type": "execute_result"
    }
   ],
   "source": [
    "mydept = ['PUCIT', 'GIS', 2, 5, 7]\n",
    "\n",
    "mydept[1] = 'Punjab University'\n",
    "mydept"
   ]
  },
  {
   "cell_type": "code",
   "execution_count": 7,
   "id": "b5f68e63",
   "metadata": {},
   "outputs": [
    {
     "data": {
      "text/plain": [
       "['Geography', 'Geology', 2, 5, 7]"
      ]
     },
     "execution_count": 7,
     "metadata": {},
     "output_type": "execute_result"
    }
   ],
   "source": [
    "\n",
    "mydept = ['PUCIT', 'GIS', 2, 5, 7]\n",
    "mydept[0:2] = ['Geography', 'Geology'] "
   ]
  },
  {
   "cell_type": "markdown",
   "id": "2d39a79a",
   "metadata": {},
   "source": [
    "###  Adding elements to a list using `list.append(value)` method\n"
   ]
  },
  {
   "cell_type": "code",
   "execution_count": 39,
   "id": "93aed67f",
   "metadata": {},
   "outputs": [
    {
     "name": "stdout",
     "output_type": "stream",
     "text": [
      "Help on built-in function append:\n",
      "\n",
      "append(object, /) method of builtins.list instance\n",
      "    Append object to the end of the list.\n",
      "\n"
     ]
    }
   ],
   "source": [
    "list1 = []\n",
    "help(list1.append)"
   ]
  },
  {
   "cell_type": "code",
   "execution_count": 1,
   "id": "d35792db",
   "metadata": {},
   "outputs": [
    {
     "data": {
      "text/plain": [
       "[78, 89, 55, 58, 78.5, 89.5]"
      ]
     },
     "execution_count": 1,
     "metadata": {},
     "output_type": "execute_result"
    }
   ],
   "source": [
    "Marks = [78, 89, 55, 58]\n",
    "Marks.append(78.5)\n",
    "Marks.append(89.5)\n",
    "Marks"
   ]
  },
  {
   "cell_type": "markdown",
   "id": "9d44e1ab",
   "metadata": {},
   "source": [
    "### Adding elements to a list using `list.extend(sublist)` method\n"
   ]
  },
  {
   "cell_type": "code",
   "execution_count": 2,
   "id": "980f7c99",
   "metadata": {},
   "outputs": [
    {
     "data": {
      "text/plain": [
       "[2, 4, 6, 8, 4, 5]"
      ]
     },
     "execution_count": 2,
     "metadata": {},
     "output_type": "execute_result"
    }
   ],
   "source": [
    "rs = [2, 4, 6, 8]\n",
    "rs.extend([4, 5])\n",
    "rs"
   ]
  },
  {
   "cell_type": "code",
   "execution_count": 3,
   "id": "1bdeaa24",
   "metadata": {},
   "outputs": [
    {
     "data": {
      "text/plain": [
       "['apple', 'banana', 'cherry', 'potato', 'tomato', 'radish']"
      ]
     },
     "execution_count": 3,
     "metadata": {},
     "output_type": "execute_result"
    }
   ],
   "source": [
    "\n",
    "fruits = ['apple', 'banana', 'cherry']\n",
    "vegs = ['potato', 'tomato', 'radish']\n",
    "fruits.extend(vegs)\n",
    "fruits"
   ]
  },
  {
   "cell_type": "markdown",
   "id": "971f9541",
   "metadata": {},
   "source": [
    "### Adding elements to a list using `list.insert(index, value)` method\n"
   ]
  },
  {
   "cell_type": "code",
   "execution_count": 45,
   "id": "ec4b5b5e",
   "metadata": {},
   "outputs": [
    {
     "name": "stdout",
     "output_type": "stream",
     "text": [
      "Help on built-in function insert:\n",
      "\n",
      "insert(index, object, /) method of builtins.list instance\n",
      "    Insert object before index.\n",
      "\n"
     ]
    }
   ],
   "source": [
    "list1 = []\n",
    "help(list1.insert)"
   ]
  },
  {
   "cell_type": "code",
   "execution_count": 8,
   "id": "4ca664fe",
   "metadata": {},
   "outputs": [
    {
     "name": "stdout",
     "output_type": "stream",
     "text": [
      "\n",
      "Original family list:  ['Waseem', 'Ali', 'Hadeed']\n",
      "After insert:  ['Waseem', 'Ali', 'Hadeed', 'Arif']\n"
     ]
    }
   ],
   "source": [
    "myfamily = [\"Waseem\", 'Ali', 'Hadeed']\n",
    "print(\"\\nOriginal family list: \", myfamily)\n",
    "myfamily.insert(6,'Arif')\n",
    "print(\"After insert: \", myfamily)"
   ]
  },
  {
   "cell_type": "code",
   "execution_count": 47,
   "id": "7f06cee2",
   "metadata": {},
   "outputs": [
    {
     "data": {
      "text/plain": [
       "['Farooq', 'Rauf', ['Maaz', 'Mohid'], 'Arif']"
      ]
     },
     "execution_count": 47,
     "metadata": {},
     "output_type": "execute_result"
    }
   ],
   "source": [
    "\n",
    "myfamily = [\"Farooq\", 'Rauf', 'Arif']\n",
    "myfamily.insert(2,['Maaz','Mohid'])\n",
    "myfamily"
   ]
  },
  {
   "cell_type": "markdown",
   "id": "ae40dd9e",
   "metadata": {},
   "source": [
    "## Removing elements from a list using `list.pop()` and `list.remove()` methods\n",
    "\n"
   ]
  },
  {
   "cell_type": "markdown",
   "id": "237bc34d",
   "metadata": {},
   "source": [
    "###  Removing element from a List using `list.pop(index)` method\n"
   ]
  },
  {
   "cell_type": "code",
   "execution_count": 9,
   "id": "46064836",
   "metadata": {},
   "outputs": [
    {
     "name": "stdout",
     "output_type": "stream",
     "text": [
      "Original list:  ['Punjab', 'University', 'Lahore', 'Located', 'Near', 'Canal']\n",
      "\n",
      "After pop():  ['Punjab', 'University', 'Lahore', 'Located', 'Near']\n",
      "Element popped is:  Canal\n"
     ]
    }
   ],
   "source": [
    "listpu = ['Punjab', 'University', 'Lahore', 'Located', 'Near', 'Canal']\n",
    "print(\"Original list: \", listpu )\n",
    "first  = listpu .pop()\n",
    "print(\"\\nAfter pop(): \", listpu )\n",
    "print(\"Element popped is: \", first)"
   ]
  },
  {
   "cell_type": "code",
   "execution_count": 10,
   "id": "d8eb6450",
   "metadata": {},
   "outputs": [
    {
     "name": "stdout",
     "output_type": "stream",
     "text": [
      "\n",
      "After pop(2):  ['Punjab', 'University', 'Located', 'Near']\n",
      "Element popped is:  Lahore\n"
     ]
    }
   ],
   "source": [
    "second = listpu .pop(2)\n",
    "print(\"\\nAfter pop(2): \", listpu )\n",
    "print(\"Element popped is: \", second)"
   ]
  },
  {
   "cell_type": "code",
   "execution_count": 11,
   "id": "117c82e8",
   "metadata": {},
   "outputs": [
    {
     "name": "stdout",
     "output_type": "stream",
     "text": [
      "\n",
      "After pop(-2):  ['Punjab', 'University', 'Near']\n",
      "Element popped is:  Located\n"
     ]
    }
   ],
   "source": [
    "third = listpu .pop(-2)\n",
    "print(\"\\nAfter pop(-2): \", listpu )\n",
    "print(\"Element popped is: \", third)"
   ]
  },
  {
   "cell_type": "markdown",
   "id": "6942dee3",
   "metadata": {},
   "source": [
    "###  Removing element from a list using `list.remove(val)` method\n"
   ]
  },
  {
   "cell_type": "code",
   "execution_count": 16,
   "id": "4c032313",
   "metadata": {},
   "outputs": [
    {
     "name": "stdout",
     "output_type": "stream",
     "text": [
      "Original list:  ['Punjab', 'University', 'Lahore', 'Located', 'Near', 'Canal']\n",
      "\n",
      "After removed('Lahore'):  ['Punjab', 'University', 'Located', 'Near', 'Canal']\n",
      "Element Removed is:  None\n"
     ]
    }
   ],
   "source": [
    "listGIS = ['Punjab', 'University', 'Lahore', 'Located', 'Near', 'Canal']\n",
    "print(\"Original list: \", listGIS )\n",
    "first  = listGIS .remove('Lahore')\n",
    "print(\"\\nAfter removed('Lahore'): \", listGIS )\n",
    "print(\"Element Removed is: \", first)"
   ]
  },
  {
   "cell_type": "markdown",
   "id": "ea9ea511",
   "metadata": {},
   "source": [
    "###  Using `list.clear()` method to remove all the list elements"
   ]
  },
  {
   "cell_type": "code",
   "execution_count": 17,
   "id": "50197009",
   "metadata": {},
   "outputs": [
    {
     "name": "stdout",
     "output_type": "stream",
     "text": [
      "\n",
      "After clear() the list becomes empty:  []\n"
     ]
    }
   ],
   "source": [
    "listGIS = ['Punjab', 'University', 'Lahore', 'Located', 'Near', 'Canal']\n",
    "listGIS.clear()\n",
    "print(\"\\nAfter clear() the list becomes empty: \", listGIS)\n"
   ]
  },
  {
   "cell_type": "code",
   "execution_count": 57,
   "id": "113706e2",
   "metadata": {},
   "outputs": [
    {
     "data": {
      "text/plain": [
       "[1, 2, 3, 7, 8, 9]"
      ]
     },
     "execution_count": 57,
     "metadata": {},
     "output_type": "execute_result"
    }
   ],
   "source": [
    "# use del keyword to delete one or more list items by using index or to delete the list entirely from memory\n",
    "list3 = [1,2,3,4,5,6,7,8,9]\n",
    "del list3[3:6]\n",
    "list3"
   ]
  },
  {
   "cell_type": "code",
   "execution_count": 58,
   "id": "a68c5550",
   "metadata": {},
   "outputs": [
    {
     "name": "stdout",
     "output_type": "stream",
     "text": [
      "\n",
      "Original list [1, 2, 3, [53, 41, 99, 12], 8, 9]\n",
      "After del list1[3] the list becomes [1, 2, 3, 8, 9]\n"
     ]
    }
   ],
   "source": [
    "# use del keyword to delete one or more list items by using index or to delete the list entirely from memory\n",
    "list3 = [1,2,3,[53, 41, 99, 12], 8,9]\n",
    "print(\"\\nOriginal list\", list3)\n",
    "del list3[3]\n",
    "print(\"After del list1[3] the list becomes\", list3)"
   ]
  },
  {
   "cell_type": "code",
   "execution_count": 59,
   "id": "e85aa8f0",
   "metadata": {},
   "outputs": [],
   "source": [
    "#to delete entire list\n",
    "mylist = ['learning', 'is', 'fun', 'with', 'arif', 'butt']\n",
    "del mylist\n",
    "#mylist"
   ]
  },
  {
   "cell_type": "markdown",
   "id": "0f4dd1c2",
   "metadata": {},
   "source": [
    "##  Converting String object to List and vice-versa"
   ]
  },
  {
   "cell_type": "markdown",
   "id": "9a54e2b3",
   "metadata": {},
   "source": [
    "###  Type Casting"
   ]
  },
  {
   "cell_type": "code",
   "execution_count": 19,
   "id": "98d157d3",
   "metadata": {},
   "outputs": [
    {
     "name": "stdout",
     "output_type": "stream",
     "text": [
      "Original string:  School days was good days and its type is:   <class 'str'>\n",
      "conv:  ['S', 'c', 'h', 'o', 'o', 'l', ' ', 'd', 'a', 'y', 's', ' ', 'w', 'a', 's', ' ', 'g', 'o', 'o', 'd', ' ', 'd', 'a', 'y', 's'] and its type is:   <class 'list'>\n"
     ]
    }
   ],
   "source": [
    "\n",
    "school = 'School days was good days'    \n",
    "print(\"Original string: \", school, \"and its type is:  \", type(school))\n",
    "conv = list(school)\n",
    "print(\"conv: \", conv, \"and its type is:  \", type(conv))"
   ]
  },
  {
   "cell_type": "markdown",
   "id": "f732b046",
   "metadata": {},
   "source": [
    "###  Use `str.split()` to Split a string into list\n"
   ]
  },
  {
   "cell_type": "code",
   "execution_count": 25,
   "id": "a220f31c",
   "metadata": {},
   "outputs": [
    {
     "data": {
      "text/plain": [
       "['Learning', 'is', 'fun']"
      ]
     },
     "execution_count": 25,
     "metadata": {},
     "output_type": "execute_result"
    }
   ],
   "source": [
    "stringa = 'Learning is fun'   \n",
    "lista = stringa.split()\n",
    "lista\n"
   ]
  },
  {
   "cell_type": "code",
   "execution_count": 26,
   "id": "2bd45927",
   "metadata": {},
   "outputs": [
    {
     "data": {
      "text/plain": [
       "['Football ground of PUCIT lo', 'ated near Supar', 'o wall']"
      ]
     },
     "execution_count": 26,
     "metadata": {},
     "output_type": "execute_result"
    }
   ],
   "source": [
    "strb = \"Football ground of PUCIT located near Suparco wall\"  \n",
    "listb = strb.split('c')\n",
    "listb"
   ]
  },
  {
   "cell_type": "markdown",
   "id": "ab267a53",
   "metadata": {},
   "source": [
    "### c. Use `str.join()` to Join list into a string\n",
    "\n"
   ]
  },
  {
   "cell_type": "code",
   "execution_count": 28,
   "id": "bca2e103",
   "metadata": {},
   "outputs": [
    {
     "data": {
      "text/plain": [
       "['PULSE', 'offering', 'many', 'GIS', 'oppertunities', 'for', 'everyone']"
      ]
     },
     "execution_count": 28,
     "metadata": {},
     "output_type": "execute_result"
    }
   ],
   "source": [
    "gstr = ['PULSE', 'offering', 'many', 'GIS', 'oppertunities', 'for', 'everyone']\n",
    "gstr"
   ]
  },
  {
   "cell_type": "code",
   "execution_count": 35,
   "id": "b20ac1f0",
   "metadata": {},
   "outputs": [
    {
     "name": "stdout",
     "output_type": "stream",
     "text": [
      "PULSE offering many GIS oppertunities for everyone\n",
      "<class 'str'>\n"
     ]
    }
   ],
   "source": [
    "gstr2 = ' '.join(gstr)\n",
    "print(gstr2)\n",
    "print(type(gstr2))"
   ]
  },
  {
   "cell_type": "code",
   "execution_count": 36,
   "id": "46b9611e",
   "metadata": {},
   "outputs": [
    {
     "name": "stdout",
     "output_type": "stream",
     "text": [
      "PULSE # offering # many # GIS # oppertunities # for # everyone\n",
      "<class 'str'>\n"
     ]
    }
   ],
   "source": [
    "tag = \" # \"\n",
    "gstr3 = tag.join(gstr)\n",
    "print(gstr3)\n",
    "print(type(gstr3))"
   ]
  },
  {
   "cell_type": "markdown",
   "id": "1f006170",
   "metadata": {},
   "source": [
    "###  Some Built-in Functions that can be used on Lists"
   ]
  },
  {
   "cell_type": "code",
   "execution_count": 37,
   "id": "2f025aa2",
   "metadata": {},
   "outputs": [
    {
     "name": "stdout",
     "output_type": "stream",
     "text": [
      "length of age:  7\n",
      "max element in age:  51\n",
      "min element in age:  19\n",
      "Sum of element in age:  208\n"
     ]
    }
   ],
   "source": [
    "list_age = [20, 51, 26, 19, 22, 25, 45]\n",
    "\n",
    "print(\"length of age: \", len(list_age))\n",
    "print(\"max element in age: \", max(list_age))\n",
    "print(\"min element in age: \",min(list_age))\n",
    "print(\"Sum of element in age: \",sum(list_age))"
   ]
  },
  {
   "cell_type": "markdown",
   "id": "c0711ea2",
   "metadata": {},
   "source": [
    "## Simple Assignment (aliasing) vs Shallow Copy vs Deep Copy"
   ]
  },
  {
   "cell_type": "markdown",
   "id": "6e1dca26",
   "metadata": {},
   "source": [
    "###  Aliasing: Making an Alias of a List object using simple Assignment `=` Operator\n"
   ]
  },
  {
   "cell_type": "code",
   "execution_count": 40,
   "id": "240b5fd8",
   "metadata": {},
   "outputs": [
    {
     "name": "stdout",
     "output_type": "stream",
     "text": [
      "ID Old : 2498429537792\n",
      "ID New: 2498429537792\n"
     ]
    }
   ],
   "source": [
    "Num_list = [1, 2, 3, 4, 5, 6]\n",
    "Num_list1 = Num_list\n",
    "\n",
    "print('ID Old :', id( Num_list))\n",
    "print('ID New:', id( Num_list1))"
   ]
  },
  {
   "cell_type": "code",
   "execution_count": 39,
   "id": "dbeffafc",
   "metadata": {},
   "outputs": [
    {
     "name": "stdout",
     "output_type": "stream",
     "text": [
      "\n",
      "Old List: [1, 2, 9, 4, 5, 6]\n",
      "New List: [1, 2, 9, 4, 5, 6]\n"
     ]
    }
   ],
   "source": [
    "\n",
    "Num_list1[2] = 9\n",
    "\n",
    "print('\\nOld List:', Num_list)\n",
    "print('New List:', Num_list1)\n"
   ]
  },
  {
   "cell_type": "markdown",
   "id": "cad05c14",
   "metadata": {},
   "source": [
    "###  Shallow Copy\n"
   ]
  },
  {
   "cell_type": "code",
   "execution_count": 42,
   "id": "8166e29f",
   "metadata": {},
   "outputs": [
    {
     "name": "stdout",
     "output_type": "stream",
     "text": [
      "ID Old : 2498429537088\n",
      "ID New: 2498429537472\n"
     ]
    }
   ],
   "source": [
    "Num_list = [1, 2, 3, 4, 5, 6]\n",
    "Num_list1 = Num_list[:]\n",
    "\n",
    "print('ID Old :', id( Num_list))\n",
    "print('ID New:', id( Num_list1)) #diffrent memory"
   ]
  },
  {
   "cell_type": "code",
   "execution_count": 3,
   "id": "9f7d6f24",
   "metadata": {},
   "outputs": [
    {
     "name": "stdout",
     "output_type": "stream",
     "text": [
      "\n",
      "Old List: [1, 2, 9, 4, 5, 6]\n",
      "New List: [1, 2, 3, 4, 5, 6]\n"
     ]
    }
   ],
   "source": [
    "Num_list = [1, 2, 3, 4, 5, 6]\n",
    "Num_list1 = Num_list[:]\n",
    "Num_list[2] = 9\n",
    "\n",
    "print('\\nOld List:', Num_list)\n",
    "print('New List:', Num_list1)\n"
   ]
  },
  {
   "cell_type": "code",
   "execution_count": 5,
   "id": "515cdade",
   "metadata": {},
   "outputs": [
    {
     "name": "stdout",
     "output_type": "stream",
     "text": [
      "ID New: 2406419176576\n",
      "ID old: 2406419074816\n"
     ]
    }
   ],
   "source": [
    "\n",
    "import copy\n",
    "Num_list = [1, 2, 3, 4]\n",
    "Num_list1 = copy.copy(Num_list)\n",
    "\n",
    "\n",
    "print('ID New:', id(Num_list))\n",
    "print('ID old:', id(Num_list1))"
   ]
  },
  {
   "cell_type": "code",
   "execution_count": 77,
   "id": "102d75a2",
   "metadata": {},
   "outputs": [
    {
     "name": "stdout",
     "output_type": "stream",
     "text": [
      "\n",
      "Old List: [1, 2, 3, 4]\n",
      "New List: [1, 2, 3, 'a']\n"
     ]
    }
   ],
   "source": [
    "S\n",
    "list2[3] = 'a'\n",
    "\n",
    "print('\\nOld List:', list1)\n",
    "print('New List:', list2)\n"
   ]
  },
  {
   "cell_type": "code",
   "execution_count": 10,
   "id": "a718e9ea",
   "metadata": {},
   "outputs": [
    {
     "name": "stdout",
     "output_type": "stream",
     "text": [
      "\n",
      "Old List: [1, 2, 3, 4, 5, 6]\n",
      "New List: [1, 2, 'AS', 4, 5, 6]\n"
     ]
    }
   ],
   "source": [
    "Num_list = [1, 2, 3, 4, 5, 6]\n",
    "Num_list1 = copy.copy(Num_list)\n",
    "Num_list1[2] = 'AS'\n",
    "\n",
    "print('\\nOld List:', Num_list)\n",
    "print('New List:', Num_list1)#not added in both"
   ]
  },
  {
   "cell_type": "code",
   "execution_count": 12,
   "id": "ba21558b",
   "metadata": {},
   "outputs": [
    {
     "name": "stdout",
     "output_type": "stream",
     "text": [
      "ID old: 2406419320704\n",
      "ID new: 2406419781312\n"
     ]
    }
   ],
   "source": [
    "\n",
    "original_dict = [[1, 2, 3], [4, 5, 6], [7, 8, 9]]\n",
    "shallow_copy_dict = copy.copy(original_dict)\n",
    "\n",
    "\n",
    "print('ID old:', id(original_dict))\n",
    "print('ID new:', id(shallow_copy_dict))"
   ]
  },
  {
   "cell_type": "code",
   "execution_count": 14,
   "id": "3a5cb6b1",
   "metadata": {},
   "outputs": [
    {
     "name": "stdout",
     "output_type": "stream",
     "text": [
      "\n",
      "Old List: [[1, 2, 3], [4, 5, 6], [7, 8, 'SC']]\n",
      "New List: [[1, 2, 3], [4, 5, 6], [7, 8, 'SC']]\n"
     ]
    }
   ],
   "source": [
    "\n",
    "shallow_copy_dict[2][2] = 'SC'\n",
    "\n",
    "\n",
    "print('\\nOld List:', original_dict)\n",
    "print('New List:', shallow_copy_dict)"
   ]
  },
  {
   "cell_type": "markdown",
   "id": "47bab162",
   "metadata": {},
   "source": [
    "###  Deep Copy: Making a Copy of an Object using `copy.deepcopy()` Method\n"
   ]
  },
  {
   "cell_type": "code",
   "execution_count": 17,
   "id": "7b0b44c8",
   "metadata": {},
   "outputs": [
    {
     "name": "stdout",
     "output_type": "stream",
     "text": [
      "Original list: [1, [2, 3], [4, [5, 6]]]\n",
      "Deep copy list: [1, [2, 3], [4, [5, 6]]]\n",
      "Original list ID: 2406419993856\n",
      "Deep copy list ID: 2406420002816\n"
     ]
    }
   ],
   "source": [
    "\n",
    "original_list = [1, [2, 3], [4, [5, 6]]]\n",
    "\n",
    "\n",
    "deep_copy_list = copy.deepcopy(original_list)\n",
    "\n",
    "\n",
    "#deep_copy_list[1][0] = 99\n",
    "\n",
    "\n",
    "print(\"Original list:\", original_list)\n",
    "print(\"Deep copy list:\", deep_copy_list)\n",
    "print('Original list ID:', id(original_list))\n",
    "print('Deep copy list ID:', id(deep_copy_list))\n"
   ]
  },
  {
   "cell_type": "code",
   "execution_count": 19,
   "id": "654ac99f",
   "metadata": {},
   "outputs": [
    {
     "name": "stdout",
     "output_type": "stream",
     "text": [
      "Original list: [1, [2, 3], [4, [5, 6]]]\n",
      "Deep copy list: [1, [2, 'a'], [4, [5, 6]]]\n"
     ]
    }
   ],
   "source": [
    "deep_copy_list[1][1] = 'a'\n",
    "print(\"Original list:\", original_list)\n",
    "print(\"Deep copy list:\", deep_copy_list)"
   ]
  },
  {
   "cell_type": "code",
   "execution_count": 81,
   "id": "638eb420",
   "metadata": {},
   "outputs": [
    {
     "name": "stdout",
     "output_type": "stream",
     "text": [
      "\n",
      "Old List: [[1, 2, 3], [4, 5, 6], [7, 8, 9]]\n",
      "New List: [[1, 2, 3], [4, 5, 6], [7, 8, 'a']]\n"
     ]
    }
   ],
   "source": [
    "\n",
    "new_list[2][2] = 'a'\n",
    "\n",
    "\n",
    "print('\\nOld List:', old_list)\n",
    "print('New List:', new_list)"
   ]
  },
  {
   "cell_type": "code",
   "execution_count": null,
   "id": "a5378dea",
   "metadata": {},
   "outputs": [],
   "source": []
  }
 ],
 "metadata": {
  "kernelspec": {
   "display_name": "Python 3 (ipykernel)",
   "language": "python",
   "name": "python3"
  },
  "language_info": {
   "codemirror_mode": {
    "name": "ipython",
    "version": 3
   },
   "file_extension": ".py",
   "mimetype": "text/x-python",
   "name": "python",
   "nbconvert_exporter": "python",
   "pygments_lexer": "ipython3",
   "version": "3.11.5"
  }
 },
 "nbformat": 4,
 "nbformat_minor": 5
}
