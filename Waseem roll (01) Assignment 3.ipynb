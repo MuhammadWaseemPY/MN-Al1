{
 "cells": [
  {
   "cell_type": "markdown",
   "id": "351c3150",
   "metadata": {},
   "source": [
    "<h1 align=\"center\">Python Strings</h1>"
   ]
  },
  {
   "cell_type": "code",
   "execution_count": 3,
   "id": "e360d31b",
   "metadata": {},
   "outputs": [
    {
     "name": "stdout",
     "output_type": "stream",
     "text": [
      "Hello Pakistan\n",
      "SAARC have major Seven Countries\n",
      "\n",
      "A\n"
     ]
    }
   ],
   "source": [
    "country = \"Hello Pakistan\"\n",
    "print(country)\n",
    "\n",
    "asia = \"SAARC have major Seven Countries\"\n",
    "print(asia)\n",
    "\n",
    "pocket = \"\"\n",
    "print(pocket)\n",
    "\n",
    "grade = \"A\"\n",
    "print(grade)"
   ]
  },
  {
   "cell_type": "code",
   "execution_count": 7,
   "id": "6718f4e2",
   "metadata": {},
   "outputs": [
    {
     "name": "stdout",
     "output_type": "stream",
     "text": [
      "Hall Road is famous for mobile parts\n"
     ]
    }
   ],
   "source": [
    "mobile = 'Hall Road is famous for mobile parts'\n",
    "print(mobile)\n",
    "\n"
   ]
  },
  {
   "cell_type": "code",
   "execution_count": 8,
   "id": "30ceb2f2",
   "metadata": {},
   "outputs": [
    {
     "name": "stdout",
     "output_type": "stream",
     "text": [
      "Govt High School is \n",
      "            Located in the heart of \n",
      "            Lahore City\n",
      "Lahore is the second largest \n",
      "city in Pakistan after \n",
      "Karachi and 26th largest in the world, \n",
      "with a population of over 13 million\n"
     ]
    }
   ],
   "source": [
    "# triple quotes string can extend multiple lines\n",
    "\n",
    "school = \"\"\"Govt High School is \n",
    "            Located in the heart of \n",
    "            Lahore City\"\"\"\n",
    "print(school)\n",
    "\n",
    "city = '''Lahore is the second largest \n",
    "city in Pakistan after \n",
    "Karachi and 26th largest in the world, \n",
    "with a population of over 13 million'''\n",
    "print(city)"
   ]
  },
  {
   "cell_type": "code",
   "execution_count": 9,
   "id": "239dfe0b",
   "metadata": {},
   "outputs": [
    {
     "name": "stdout",
     "output_type": "stream",
     "text": [
      "The Ravi River is a \n",
      "transboundary river \n",
      "crossing northwestern India and \n",
      "eastern Pakistan\n"
     ]
    }
   ],
   "source": [
    "\n",
    "river = \"\"\"The Ravi River is a \n",
    "transboundary river \n",
    "crossing northwestern India and \n",
    "eastern Pakistan\"\"\"\n",
    "print(river)\n"
   ]
  },
  {
   "cell_type": "markdown",
   "id": "d3e111e1",
   "metadata": {},
   "source": [
    "## 2. Accessing Characters of a String in Python\n"
   ]
  },
  {
   "cell_type": "code",
   "execution_count": 12,
   "id": "ef31e81a",
   "metadata": {},
   "outputs": [
    {
     "name": "stdout",
     "output_type": "stream",
     "text": [
      "First character: H\n",
      "Second character: e\n",
      "Last character: !\n",
      "Second-to-last character: d\n"
     ]
    }
   ],
   "source": [
    "\n",
    "my_string = \"Hello, World!\"\n",
    "\n",
    "\n",
    "first_char = my_string[0]  \n",
    "second_char = my_string[1]  \n",
    "\n",
    "\n",
    "last_char = my_string[-1] \n",
    "second_to_last_char = my_string[-2]  \n",
    "\n",
    "\n",
    "print(\"First character:\", first_char)\n",
    "print(\"Second character:\", second_char)\n",
    "print(\"Last character:\", last_char)\n",
    "print(\"Second-to-last character:\", second_to_last_char)"
   ]
  },
  {
   "cell_type": "code",
   "execution_count": 14,
   "id": "791af654",
   "metadata": {},
   "outputs": [
    {
     "name": "stdout",
     "output_type": "stream",
     "text": [
      "str =  The M-2 is 375 km long and located entirely in Punjab\n",
      "str= Lahore Located in north of Punjab having fog issues from past 20 years\n"
     ]
    }
   ],
   "source": [
    "str = 'The M-2 is 375 km long and located entirely in Punjab'\n",
    "print('str = ', str)\n",
    "str='Lahore Located in north of Punjab having fog issues from past 20 years'\n",
    "print('str=', str)"
   ]
  },
  {
   "cell_type": "code",
   "execution_count": null,
   "id": "6d910aec",
   "metadata": {},
   "outputs": [],
   "source": [
    "dir()"
   ]
  },
  {
   "cell_type": "markdown",
   "id": "5cbf1435",
   "metadata": {},
   "source": [
    "## 3. Strings are Immutable"
   ]
  },
  {
   "cell_type": "code",
   "execution_count": null,
   "id": "327aea83",
   "metadata": {},
   "outputs": [],
   "source": [
    "help(str)"
   ]
  },
  {
   "cell_type": "code",
   "execution_count": 18,
   "id": "d0771648",
   "metadata": {},
   "outputs": [
    {
     "name": "stdout",
     "output_type": "stream",
     "text": [
      "3106821487664\n",
      "3106821487664\n",
      "3106829307120\n"
     ]
    }
   ],
   "source": [
    "\n",
    "Name = 'Waseem'\n",
    "print(id(str1))\n",
    "level = 'Mphil23'\n",
    "print(id(str1))\n",
    "speak = 'urdu'\n",
    "print(id(speak))"
   ]
  },
  {
   "cell_type": "code",
   "execution_count": 19,
   "id": "a45eb434",
   "metadata": {},
   "outputs": [
    {
     "name": "stdout",
     "output_type": "stream",
     "text": [
      "MPhi\n",
      "MPhi\n",
      "n2023\n"
     ]
    }
   ],
   "source": [
    "intro = 'MPhilsection2023newadmission'\n",
    "\n",
    "print(intro[0:4]) \n",
    "print(intro[:4]) \n",
    "print(intro[11:16])\n"
   ]
  },
  {
   "cell_type": "code",
   "execution_count": null,
   "id": "340a1dd5",
   "metadata": {},
   "outputs": [],
   "source": [
    "day = 'Saturdayisnotworkingday'\n",
    "print(day[::]) \n",
    "print(day[::1])  \n",
    "print(day[::2]) "
   ]
  },
  {
   "cell_type": "code",
   "execution_count": 23,
   "id": "9f1d3ebb",
   "metadata": {},
   "outputs": [
    {
     "name": "stdout",
     "output_type": "stream",
     "text": [
      "0123456789\n",
      "4567\n"
     ]
    }
   ],
   "source": [
    "reverse = '9876543210'\n",
    "print(reverse[::-1]) \n",
    "print(reverse[5:1:-1]) \n",
    "\n"
   ]
  },
  {
   "cell_type": "markdown",
   "id": "2603ff7c",
   "metadata": {},
   "source": [
    "## 5. String Concatenation\n"
   ]
  },
  {
   "cell_type": "code",
   "execution_count": 2,
   "id": "44dc0a9d",
   "metadata": {},
   "outputs": [
    {
     "name": "stdout",
     "output_type": "stream",
     "text": [
      "call + asia =  when yourcall not responded\n"
     ]
    }
   ],
   "source": [
    "call = 'when your'\n",
    "asia ='call not responded'\n",
    "combine = call + asia\n",
    "print('call + asia = ', combine)\n",
    "\n",
    "\n"
   ]
  },
  {
   "cell_type": "markdown",
   "id": "f4bdee54",
   "metadata": {},
   "source": [
    "## 6. Creating Large strings\n"
   ]
  },
  {
   "cell_type": "code",
   "execution_count": 27,
   "id": "5fcc181e",
   "metadata": {},
   "outputs": [
    {
     "name": "stdout",
     "output_type": "stream",
     "text": [
      "math * 50 = mathmathmathmathmathmathmathmathmathmathmathmathmathmathmathmathmathmathmathmathmathmathmathmathmathmathmathmathmathmathmathmathmathmathmathmathmathmathmathmathmathmathmathmathmathmathmathmathmathmath\n",
      "distdist\n"
     ]
    }
   ],
   "source": [
    "book = 'math'\n",
    "print('math * 50 =', book * 50)\n",
    "\n",
    "buffer_dist = 'dist' * 2\n",
    "print(buffer_dist)"
   ]
  },
  {
   "cell_type": "code",
   "execution_count": null,
   "id": "72483328",
   "metadata": {},
   "outputs": [],
   "source": [
    "\"waseem\"*100"
   ]
  },
  {
   "cell_type": "code",
   "execution_count": null,
   "id": "57d585c3",
   "metadata": {},
   "outputs": [],
   "source": [
    "help(len)"
   ]
  },
  {
   "cell_type": "code",
   "execution_count": 29,
   "id": "78745769",
   "metadata": {},
   "outputs": [
    {
     "data": {
      "text/plain": [
       "21"
      ]
     },
     "execution_count": 29,
     "metadata": {},
     "output_type": "execute_result"
    }
   ],
   "source": [
    "\n",
    "num_of = [1,2,3,4,5,6,7,8,9,10,11,12,11,13,14,15,16,17,18,19,20]\n",
    "\n",
    "len(num_of)"
   ]
  },
  {
   "cell_type": "code",
   "execution_count": 31,
   "id": "3f201280",
   "metadata": {},
   "outputs": [
    {
     "name": "stdout",
     "output_type": "stream",
     "text": [
      "Orignial string =  Ravi river is located near Lahore city\n",
      "len(river) =  38\n"
     ]
    }
   ],
   "source": [
    "river = 'Ravi river is located near Lahore city'\n",
    "print('Orignial string = ', river)\n",
    "\n",
    "rv = len(river)\n",
    "print('len(river) = ', rv)\n",
    "\n"
   ]
  },
  {
   "cell_type": "code",
   "execution_count": 33,
   "id": "2ec66201",
   "metadata": {},
   "outputs": [
    {
     "name": "stdout",
     "output_type": "stream",
     "text": [
      "Original string: 'Waseem'\n",
      "Stripped string: 'Waseem'\n"
     ]
    }
   ],
   "source": [
    "original_string = \"Waseem\"\n",
    "stripped_string = original_string.strip()\n",
    "\n",
    "print(\"Original string:\", repr(original_string))  \n",
    "print(\"Stripped string:\", repr(stripped_string))"
   ]
  },
  {
   "cell_type": "markdown",
   "id": "8181b676",
   "metadata": {},
   "source": [
    "### c. The `str.startswith()` method\n",
    "The `str.startswith()` method return True if str starts with the specified prefix, False otherwise.\n",
    "```\n",
    "str.startswith(prefix[, start[, end]])\n",
    "```"
   ]
  },
  {
   "cell_type": "code",
   "execution_count": 34,
   "id": "8c25d5f1",
   "metadata": {},
   "outputs": [
    {
     "name": "stdout",
     "output_type": "stream",
     "text": [
      "Help on built-in function startswith:\n",
      "\n",
      "startswith(...) method of builtins.str instance\n",
      "    S.startswith(prefix[, start[, end]]) -> bool\n",
      "    \n",
      "    Return True if S starts with the specified prefix, False otherwise.\n",
      "    With optional start, test S beginning at that position.\n",
      "    With optional end, stop comparing S at that position.\n",
      "    prefix can also be a tuple of strings to try.\n",
      "\n"
     ]
    }
   ],
   "source": [
    "str1=\"DS\"\n",
    "help(str1.startswith)"
   ]
  },
  {
   "cell_type": "code",
   "execution_count": 35,
   "id": "cafc44b9",
   "metadata": {},
   "outputs": [
    {
     "name": "stdout",
     "output_type": "stream",
     "text": [
      "True\n",
      "False\n"
     ]
    }
   ],
   "source": [
    "saying = \"spread love everywhere you go\"\n",
    "\n",
    "rv = saying.startswith('spread')\n",
    "print(rv)\n",
    "\n",
    "rv = str1.startswith('waseem')\n",
    "print(rv)\n",
    "\n",
    "\n"
   ]
  },
  {
   "cell_type": "code",
   "execution_count": 36,
   "id": "7acfe4a2",
   "metadata": {},
   "outputs": [
    {
     "name": "stdout",
     "output_type": "stream",
     "text": [
      "Help on built-in function split:\n",
      "\n",
      "split(sep=None, maxsplit=-1) method of builtins.str instance\n",
      "    Return a list of the substrings in the string, using sep as the separator string.\n",
      "    \n",
      "      sep\n",
      "        The separator used to split the string.\n",
      "    \n",
      "        When set to None (the default value), will split on any whitespace\n",
      "        character (including \\\\n \\\\r \\\\t \\\\f and spaces) and will discard\n",
      "        empty strings from the result.\n",
      "      maxsplit\n",
      "        Maximum number of splits (starting from the left).\n",
      "        -1 (the default value) means no limit.\n",
      "    \n",
      "    Note, str.split() is mainly useful for data that has been intentionally\n",
      "    delimited.  With natural text that includes punctuation, consider using\n",
      "    the regular expression module.\n",
      "\n"
     ]
    }
   ],
   "source": [
    "str1=\"DS\"\n",
    "help(str1.split)"
   ]
  },
  {
   "cell_type": "code",
   "execution_count": 38,
   "id": "ec111ec7",
   "metadata": {},
   "outputs": [
    {
     "name": "stdout",
     "output_type": "stream",
     "text": [
      "['new', 'university', 'campus', 'has', 'many', 'departments']\n",
      "<class 'list'>\n"
     ]
    }
   ],
   "source": [
    "str1 = 'new university campus has many departments'\n",
    "imp = str1.split()\n",
    "print(imp)\n",
    "print(type(imp))"
   ]
  },
  {
   "cell_type": "code",
   "execution_count": 39,
   "id": "8a72e43c",
   "metadata": {},
   "outputs": [
    {
     "name": "stdout",
     "output_type": "stream",
     "text": [
      "['along canal road ']\n",
      "<class 'list'>\n"
     ]
    }
   ],
   "source": [
    "my_university = 'new university campus has many departments'\n",
    "my_university = 'along canal road '\n",
    "rv = my_university.split(sep='i')\n",
    "print(rv)\n",
    "print(type(rv))"
   ]
  },
  {
   "cell_type": "code",
   "execution_count": 40,
   "id": "35be205d",
   "metadata": {},
   "outputs": [
    {
     "name": "stdout",
     "output_type": "stream",
     "text": [
      "Help on built-in function join:\n",
      "\n",
      "join(iterable, /) method of builtins.str instance\n",
      "    Concatenate any number of strings.\n",
      "    \n",
      "    The string whose method is called is inserted in between each given string.\n",
      "    The result is returned as a new string.\n",
      "    \n",
      "    Example: '.'.join(['ab', 'pq', 'rs']) -> 'ab.pq.rs'\n",
      "\n"
     ]
    }
   ],
   "source": [
    "str1=\"DS\"\n",
    "help(str1.join)"
   ]
  },
  {
   "cell_type": "code",
   "execution_count": 42,
   "id": "84b556b6",
   "metadata": {},
   "outputs": [
    {
     "data": {
      "text/plain": [
       "['L',\n",
       " 'e',\n",
       " 'a',\n",
       " 'r',\n",
       " 'n',\n",
       " 'i',\n",
       " 'n',\n",
       " 'g',\n",
       " 'a',\n",
       " 'n',\n",
       " 'd',\n",
       " 'o',\n",
       " 'n',\n",
       " 'l',\n",
       " 'y',\n",
       " 'L',\n",
       " 'e',\n",
       " 'a',\n",
       " 'r',\n",
       " 'n',\n",
       " 'i',\n",
       " 'n',\n",
       " 'g',\n",
       " '']"
      ]
     },
     "execution_count": 42,
     "metadata": {},
     "output_type": "execute_result"
    }
   ],
   "source": [
    "my_objective = \"L e a r n i n g a n d o n l y L e a r n i n g \"\n",
    "my_objective.split(' ')"
   ]
  },
  {
   "cell_type": "code",
   "execution_count": 43,
   "id": "834eca1c",
   "metadata": {},
   "outputs": [
    {
     "name": "stdout",
     "output_type": "stream",
     "text": [
      "centre for GIS near suparco <class 'str'>\n"
     ]
    }
   ],
   "source": [
    "\n",
    "gis = ['centre', 'for', 'GIS', 'near', 'suparco']\n",
    "\n",
    "\n",
    "mydept = ' '.join(gis)\n",
    "\n",
    "print(mydept, type(mydept))\n"
   ]
  },
  {
   "cell_type": "code",
   "execution_count": 45,
   "id": "58ce5dc1",
   "metadata": {},
   "outputs": [
    {
     "name": "stdout",
     "output_type": "stream",
     "text": [
      "19\n",
      "45\n",
      "4\n",
      "17\n"
     ]
    }
   ],
   "source": [
    "work = 'The United Nations agency working to promote health'\n",
    "print(work.find('agency'))\n",
    "print(work.find('health'))\n",
    "\n",
    "\n",
    "print(work.find('U',2)) \n",
    "print(work.find('s',2)) \n"
   ]
  },
  {
   "cell_type": "code",
   "execution_count": 46,
   "id": "7c8e62c9",
   "metadata": {},
   "outputs": [
    {
     "name": "stdout",
     "output_type": "stream",
     "text": [
      "Help on built-in function replace:\n",
      "\n",
      "replace(old, new, count=-1, /) method of builtins.str instance\n",
      "    Return a copy with all occurrences of substring old replaced by new.\n",
      "    \n",
      "      count\n",
      "        Maximum number of occurrences to replace.\n",
      "        -1 (the default value) means replace all occurrences.\n",
      "    \n",
      "    If the optional argument count is given, only the first count occurrences are\n",
      "    replaced.\n",
      "\n"
     ]
    }
   ],
   "source": [
    "str1=\"DS\"\n",
    "help(str1.replace)"
   ]
  },
  {
   "cell_type": "code",
   "execution_count": null,
   "id": "7f2f698e",
   "metadata": {},
   "outputs": [],
   "source": [
    "print(\"tax\".replace(\"a\",\"e\"))"
   ]
  },
  {
   "cell_type": "code",
   "execution_count": 48,
   "id": "93b57ec8",
   "metadata": {},
   "outputs": [
    {
     "name": "stdout",
     "output_type": "stream",
     "text": [
      "BOR introducing new Projects\n",
      "Punjab Govt introducing new Projects\n"
     ]
    }
   ],
   "source": [
    "project = 'BOR introducing new Projects'\n",
    "newproject = project.replace('BOR', 'Punjab Govt')\n",
    "print(project)\n",
    "print(newproject)"
   ]
  },
  {
   "cell_type": "code",
   "execution_count": 49,
   "id": "683c6aeb",
   "metadata": {},
   "outputs": [
    {
     "name": "stdout",
     "output_type": "stream",
     "text": [
      "Mr. waseem, you have 172 cm height.\n"
     ]
    }
   ],
   "source": [
    "#Example 1:\n",
    "height = 172 ;    name=\"waseem\"\n",
    "\n",
    "print(\"Mr. {}, you have {} cm height.\" .format(name, height))"
   ]
  },
  {
   "cell_type": "code",
   "execution_count": 54,
   "id": "b57ff578",
   "metadata": {},
   "outputs": [
    {
     "name": "stdout",
     "output_type": "stream",
     "text": [
      "Mr. Muhammad Waseem, your total cost is 100, percentage discount is 0.4, and bill is 60.0\n"
     ]
    }
   ],
   "source": [
    "name = \"Muhammad Waseem\"\n",
    "cost = 100\n",
    "discount = 0.4\n",
    "bill = cost - cost * discount\n",
    "\n",
    "print(\"Mr. {0}, your total cost is {1}, percentage discount is {2}, and bill is {3}\" \n",
    "      .format(name, cost, discount, bill))\n"
   ]
  },
  {
   "cell_type": "markdown",
   "id": "8befae56",
   "metadata": {},
   "source": [
    "### Comparing two strings using `is` operator and `==` operator"
   ]
  },
  {
   "cell_type": "code",
   "execution_count": null,
   "id": "8ac11b1b",
   "metadata": {},
   "outputs": [],
   "source": [
    "\n",
    "mess = 'fine'\n",
    "location = 'Abbotabad'\n",
    "id(a), id(b)"
   ]
  },
  {
   "cell_type": "code",
   "execution_count": 61,
   "id": "d787d540",
   "metadata": {},
   "outputs": [
    {
     "name": "stdout",
     "output_type": "stream",
     "text": [
      "False\n",
      "False\n",
      "True\n",
      "True\n"
     ]
    }
   ],
   "source": [
    "\n",
    "river = 'ravi'\n",
    "canal = 'feeder'\n",
    "print (river is canal) \n",
    "print (river == canal) \n",
    "\n",
    "\n",
    "print(river is not canal)\n",
    "print (river != canal)"
   ]
  },
  {
   "cell_type": "markdown",
   "id": "db4dd60b",
   "metadata": {},
   "source": [
    "### String Membership test using `in` operator"
   ]
  },
  {
   "cell_type": "code",
   "execution_count": 59,
   "id": "ad151253",
   "metadata": {},
   "outputs": [
    {
     "data": {
      "text/plain": [
       "True"
      ]
     },
     "execution_count": 59,
     "metadata": {},
     "output_type": "execute_result"
    }
   ],
   "source": [
    "'o' in 'world'"
   ]
  },
  {
   "cell_type": "code",
   "execution_count": 58,
   "id": "7dacbbf5",
   "metadata": {},
   "outputs": [
    {
     "data": {
      "text/plain": [
       "False"
      ]
     },
     "execution_count": 58,
     "metadata": {},
     "output_type": "execute_result"
    }
   ],
   "source": [
    "'ts' not in 'continents'"
   ]
  },
  {
   "cell_type": "code",
   "execution_count": null,
   "id": "b8db3022",
   "metadata": {},
   "outputs": [],
   "source": []
  }
 ],
 "metadata": {
  "kernelspec": {
   "display_name": "Python 3 (ipykernel)",
   "language": "python",
   "name": "python3"
  },
  "language_info": {
   "codemirror_mode": {
    "name": "ipython",
    "version": 3
   },
   "file_extension": ".py",
   "mimetype": "text/x-python",
   "name": "python",
   "nbconvert_exporter": "python",
   "pygments_lexer": "ipython3",
   "version": "3.11.5"
  }
 },
 "nbformat": 4,
 "nbformat_minor": 5
}
